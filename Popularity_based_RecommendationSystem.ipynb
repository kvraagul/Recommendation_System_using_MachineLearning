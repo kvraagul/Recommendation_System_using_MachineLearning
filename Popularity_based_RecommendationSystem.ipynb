{
  "nbformat": 4,
  "nbformat_minor": 0,
  "metadata": {
    "colab": {
      "name": "Popularity_based_RecommendationSystem.ipynb",
      "provenance": [],
      "mount_file_id": "1cnUfEWEQJ--0TzlFTFeUQhU68zrtHvJo",
      "authorship_tag": "ABX9TyNtkQKKIj017efOvL61cAdY",
      "include_colab_link": true
    },
    "kernelspec": {
      "display_name": "Python 3",
      "name": "python3"
    },
    "language_info": {
      "name": "python"
    }
  },
  "cells": [
    {
      "cell_type": "markdown",
      "metadata": {
        "id": "view-in-github",
        "colab_type": "text"
      },
      "source": [
        "<a href=\"https://colab.research.google.com/github/kvraagul/Recommendation_System_using_MachineLearning/blob/main/Popularity_based_RecommendationSystem.ipynb\" target=\"_parent\"><img src=\"https://colab.research.google.com/assets/colab-badge.svg\" alt=\"Open In Colab\"/></a>"
      ]
    },
    {
      "cell_type": "markdown",
      "metadata": {
        "id": "YnHF5ju5E4cI"
      },
      "source": [
        "**MUSIC RECOMMENDATION SYSTEM (MACHINE LEARNING)**"
      ]
    },
    {
      "cell_type": "markdown",
      "metadata": {
        "id": "qxZT1fVcFBkJ"
      },
      "source": [
        "# Importing Libraries"
      ]
    },
    {
      "cell_type": "code",
      "metadata": {
        "id": "bgfkFnpKuzOJ"
      },
      "source": [
        "import numpy as np\n",
        "import pandas as pd\n",
        "import matplotlib.pyplot as plt\n",
        "import seaborn as sns\n",
        "%matplotlib inline\n",
        "\n",
        "import warnings\n",
        "warnings.filterwarnings('ignore')"
      ],
      "execution_count": null,
      "outputs": []
    },
    {
      "cell_type": "code",
      "metadata": {
        "colab": {
          "base_uri": "https://localhost:8080/"
        },
        "id": "IT50I-GDsrBJ",
        "outputId": "f85c730b-6deb-4782-faae-6e30291c8e7d"
      },
      "source": [
        "from google.colab import drive\n",
        "drive.mount('/content/drive')"
      ],
      "execution_count": null,
      "outputs": [
        {
          "output_type": "stream",
          "text": [
            "Drive already mounted at /content/drive; to attempt to forcibly remount, call drive.mount(\"/content/drive\", force_remount=True).\n"
          ],
          "name": "stdout"
        }
      ]
    },
    {
      "cell_type": "markdown",
      "metadata": {
        "id": "emZDHhxSFIOv"
      },
      "source": [
        "# Importing Datasets"
      ]
    },
    {
      "cell_type": "code",
      "metadata": {
        "id": "P1kjqXTJvUKk"
      },
      "source": [
        "vet_df = pd.read_csv('/content/drive/MyDrive/Machine Learning Projects/Music Recommendation System/Million Song Dataset/kaggle_visible_evaluation_triplets.txt',sep='\\t',names=['user_id','Songs ID','Frequency'])\n",
        "\n",
        "unique_df = pd.read_csv('/content/drive/MyDrive/Machine Learning Projects/Music Recommendation System/Million Song Dataset/unique_tracks.txt',sep='<SEP>',names=['Track ID','Songs ID','Composer','Song Name'])"
      ],
      "execution_count": null,
      "outputs": []
    },
    {
      "cell_type": "markdown",
      "metadata": {
        "id": "WRp3wuRYGrHh"
      },
      "source": [
        "# Exploratory Data Analysis\n"
      ]
    },
    {
      "cell_type": "markdown",
      "metadata": {
        "id": "aP4Gg8uRG8XL"
      },
      "source": [
        "### Visible Evaluation Triplets Dataset \n",
        "\n",
        "It contains User ID, Songs ID, Frequency"
      ]
    },
    {
      "cell_type": "code",
      "metadata": {
        "colab": {
          "base_uri": "https://localhost:8080/",
          "height": 195
        },
        "id": "yFZPTbhWo-dA",
        "outputId": "28668603-9916-4441-f475-5fa97ad41f6a"
      },
      "source": [
        "vet_df.head()"
      ],
      "execution_count": null,
      "outputs": [
        {
          "output_type": "execute_result",
          "data": {
            "text/html": [
              "<div>\n",
              "<style scoped>\n",
              "    .dataframe tbody tr th:only-of-type {\n",
              "        vertical-align: middle;\n",
              "    }\n",
              "\n",
              "    .dataframe tbody tr th {\n",
              "        vertical-align: top;\n",
              "    }\n",
              "\n",
              "    .dataframe thead th {\n",
              "        text-align: right;\n",
              "    }\n",
              "</style>\n",
              "<table border=\"1\" class=\"dataframe\">\n",
              "  <thead>\n",
              "    <tr style=\"text-align: right;\">\n",
              "      <th></th>\n",
              "      <th>user_id</th>\n",
              "      <th>Songs ID</th>\n",
              "      <th>Frequency</th>\n",
              "    </tr>\n",
              "  </thead>\n",
              "  <tbody>\n",
              "    <tr>\n",
              "      <th>0</th>\n",
              "      <td>fd50c4007b68a3737fe052d5a4f78ce8aa117f3d</td>\n",
              "      <td>SOBONKR12A58A7A7E0</td>\n",
              "      <td>1</td>\n",
              "    </tr>\n",
              "    <tr>\n",
              "      <th>1</th>\n",
              "      <td>fd50c4007b68a3737fe052d5a4f78ce8aa117f3d</td>\n",
              "      <td>SOEGIYH12A6D4FC0E3</td>\n",
              "      <td>1</td>\n",
              "    </tr>\n",
              "    <tr>\n",
              "      <th>2</th>\n",
              "      <td>fd50c4007b68a3737fe052d5a4f78ce8aa117f3d</td>\n",
              "      <td>SOFLJQZ12A6D4FADA6</td>\n",
              "      <td>1</td>\n",
              "    </tr>\n",
              "    <tr>\n",
              "      <th>3</th>\n",
              "      <td>fd50c4007b68a3737fe052d5a4f78ce8aa117f3d</td>\n",
              "      <td>SOHTKMO12AB01843B0</td>\n",
              "      <td>1</td>\n",
              "    </tr>\n",
              "    <tr>\n",
              "      <th>4</th>\n",
              "      <td>fd50c4007b68a3737fe052d5a4f78ce8aa117f3d</td>\n",
              "      <td>SODQZCY12A6D4F9D11</td>\n",
              "      <td>1</td>\n",
              "    </tr>\n",
              "  </tbody>\n",
              "</table>\n",
              "</div>"
            ],
            "text/plain": [
              "                                    user_id            Songs ID  Frequency\n",
              "0  fd50c4007b68a3737fe052d5a4f78ce8aa117f3d  SOBONKR12A58A7A7E0          1\n",
              "1  fd50c4007b68a3737fe052d5a4f78ce8aa117f3d  SOEGIYH12A6D4FC0E3          1\n",
              "2  fd50c4007b68a3737fe052d5a4f78ce8aa117f3d  SOFLJQZ12A6D4FADA6          1\n",
              "3  fd50c4007b68a3737fe052d5a4f78ce8aa117f3d  SOHTKMO12AB01843B0          1\n",
              "4  fd50c4007b68a3737fe052d5a4f78ce8aa117f3d  SODQZCY12A6D4F9D11          1"
            ]
          },
          "metadata": {
            "tags": []
          },
          "execution_count": 4
        }
      ]
    },
    {
      "cell_type": "code",
      "metadata": {
        "colab": {
          "base_uri": "https://localhost:8080/",
          "height": 373
        },
        "id": "SvQVDx0KRM9O",
        "outputId": "6cf85f4d-8b6f-43e7-97ba-43531d78448e"
      },
      "source": [
        "vet_df.describe(include= 'all')"
      ],
      "execution_count": null,
      "outputs": [
        {
          "output_type": "execute_result",
          "data": {
            "text/html": [
              "<div>\n",
              "<style scoped>\n",
              "    .dataframe tbody tr th:only-of-type {\n",
              "        vertical-align: middle;\n",
              "    }\n",
              "\n",
              "    .dataframe tbody tr th {\n",
              "        vertical-align: top;\n",
              "    }\n",
              "\n",
              "    .dataframe thead th {\n",
              "        text-align: right;\n",
              "    }\n",
              "</style>\n",
              "<table border=\"1\" class=\"dataframe\">\n",
              "  <thead>\n",
              "    <tr style=\"text-align: right;\">\n",
              "      <th></th>\n",
              "      <th>user_id</th>\n",
              "      <th>Songs ID</th>\n",
              "      <th>Frequency</th>\n",
              "    </tr>\n",
              "  </thead>\n",
              "  <tbody>\n",
              "    <tr>\n",
              "      <th>count</th>\n",
              "      <td>1450933</td>\n",
              "      <td>1450933</td>\n",
              "      <td>1.450933e+06</td>\n",
              "    </tr>\n",
              "    <tr>\n",
              "      <th>unique</th>\n",
              "      <td>110000</td>\n",
              "      <td>163206</td>\n",
              "      <td>NaN</td>\n",
              "    </tr>\n",
              "    <tr>\n",
              "      <th>top</th>\n",
              "      <td>7d90be8dfdbde170f036ce8a4b915440137cb11c</td>\n",
              "      <td>SOFRQTD12A81C233C0</td>\n",
              "      <td>NaN</td>\n",
              "    </tr>\n",
              "    <tr>\n",
              "      <th>freq</th>\n",
              "      <td>53</td>\n",
              "      <td>5043</td>\n",
              "      <td>NaN</td>\n",
              "    </tr>\n",
              "    <tr>\n",
              "      <th>mean</th>\n",
              "      <td>NaN</td>\n",
              "      <td>NaN</td>\n",
              "      <td>3.187149e+00</td>\n",
              "    </tr>\n",
              "    <tr>\n",
              "      <th>std</th>\n",
              "      <td>NaN</td>\n",
              "      <td>NaN</td>\n",
              "      <td>7.051664e+00</td>\n",
              "    </tr>\n",
              "    <tr>\n",
              "      <th>min</th>\n",
              "      <td>NaN</td>\n",
              "      <td>NaN</td>\n",
              "      <td>1.000000e+00</td>\n",
              "    </tr>\n",
              "    <tr>\n",
              "      <th>25%</th>\n",
              "      <td>NaN</td>\n",
              "      <td>NaN</td>\n",
              "      <td>1.000000e+00</td>\n",
              "    </tr>\n",
              "    <tr>\n",
              "      <th>50%</th>\n",
              "      <td>NaN</td>\n",
              "      <td>NaN</td>\n",
              "      <td>1.000000e+00</td>\n",
              "    </tr>\n",
              "    <tr>\n",
              "      <th>75%</th>\n",
              "      <td>NaN</td>\n",
              "      <td>NaN</td>\n",
              "      <td>3.000000e+00</td>\n",
              "    </tr>\n",
              "    <tr>\n",
              "      <th>max</th>\n",
              "      <td>NaN</td>\n",
              "      <td>NaN</td>\n",
              "      <td>9.230000e+02</td>\n",
              "    </tr>\n",
              "  </tbody>\n",
              "</table>\n",
              "</div>"
            ],
            "text/plain": [
              "                                         user_id  ...     Frequency\n",
              "count                                    1450933  ...  1.450933e+06\n",
              "unique                                    110000  ...           NaN\n",
              "top     7d90be8dfdbde170f036ce8a4b915440137cb11c  ...           NaN\n",
              "freq                                          53  ...           NaN\n",
              "mean                                         NaN  ...  3.187149e+00\n",
              "std                                          NaN  ...  7.051664e+00\n",
              "min                                          NaN  ...  1.000000e+00\n",
              "25%                                          NaN  ...  1.000000e+00\n",
              "50%                                          NaN  ...  1.000000e+00\n",
              "75%                                          NaN  ...  3.000000e+00\n",
              "max                                          NaN  ...  9.230000e+02\n",
              "\n",
              "[11 rows x 3 columns]"
            ]
          },
          "metadata": {
            "tags": []
          },
          "execution_count": 5
        }
      ]
    },
    {
      "cell_type": "code",
      "metadata": {
        "colab": {
          "base_uri": "https://localhost:8080/"
        },
        "id": "JNdGcsVTFkq-",
        "outputId": "a59e1037-543f-4298-9350-c5a4041d34fc"
      },
      "source": [
        "vet_df.isnull().sum()"
      ],
      "execution_count": null,
      "outputs": [
        {
          "output_type": "execute_result",
          "data": {
            "text/plain": [
              "user_id      0\n",
              "Songs ID     0\n",
              "Frequency    0\n",
              "dtype: int64"
            ]
          },
          "metadata": {
            "tags": []
          },
          "execution_count": 6
        }
      ]
    },
    {
      "cell_type": "code",
      "metadata": {
        "colab": {
          "base_uri": "https://localhost:8080/"
        },
        "id": "0gC2v6z0Lj9b",
        "outputId": "adec7e55-3fb3-46c9-d986-509663fa6b88"
      },
      "source": [
        "print(\"Shape of Visible evaluation triplets is {}\".format(vet_df.shape))"
      ],
      "execution_count": null,
      "outputs": [
        {
          "output_type": "stream",
          "text": [
            "Shape of Visible evaluation triplets is (1450933, 3)\n"
          ],
          "name": "stdout"
        }
      ]
    },
    {
      "cell_type": "markdown",
      "metadata": {
        "id": "It6FK18mHdST"
      },
      "source": [
        "### Unique Tracks Dataset\n",
        "\n",
        "It contains Track ID, Songs ID, Composer, Song Name"
      ]
    },
    {
      "cell_type": "code",
      "metadata": {
        "colab": {
          "base_uri": "https://localhost:8080/",
          "height": 195
        },
        "id": "rcV-baNlvB-T",
        "outputId": "93f2bd33-e83a-41c7-9f38-4a2dd738b8e9"
      },
      "source": [
        "unique_df.head()"
      ],
      "execution_count": null,
      "outputs": [
        {
          "output_type": "execute_result",
          "data": {
            "text/html": [
              "<div>\n",
              "<style scoped>\n",
              "    .dataframe tbody tr th:only-of-type {\n",
              "        vertical-align: middle;\n",
              "    }\n",
              "\n",
              "    .dataframe tbody tr th {\n",
              "        vertical-align: top;\n",
              "    }\n",
              "\n",
              "    .dataframe thead th {\n",
              "        text-align: right;\n",
              "    }\n",
              "</style>\n",
              "<table border=\"1\" class=\"dataframe\">\n",
              "  <thead>\n",
              "    <tr style=\"text-align: right;\">\n",
              "      <th></th>\n",
              "      <th>Track ID</th>\n",
              "      <th>Songs ID</th>\n",
              "      <th>Composer</th>\n",
              "      <th>Song Name</th>\n",
              "    </tr>\n",
              "  </thead>\n",
              "  <tbody>\n",
              "    <tr>\n",
              "      <th>0</th>\n",
              "      <td>TRMMMYQ128F932D901</td>\n",
              "      <td>SOQMMHC12AB0180CB8</td>\n",
              "      <td>Faster Pussy cat</td>\n",
              "      <td>Silent Night</td>\n",
              "    </tr>\n",
              "    <tr>\n",
              "      <th>1</th>\n",
              "      <td>TRMMMKD128F425225D</td>\n",
              "      <td>SOVFVAK12A8C1350D9</td>\n",
              "      <td>Karkkiautomaatti</td>\n",
              "      <td>Tanssi vaan</td>\n",
              "    </tr>\n",
              "    <tr>\n",
              "      <th>2</th>\n",
              "      <td>TRMMMRX128F93187D9</td>\n",
              "      <td>SOGTUKN12AB017F4F1</td>\n",
              "      <td>Hudson Mohawke</td>\n",
              "      <td>No One Could Ever</td>\n",
              "    </tr>\n",
              "    <tr>\n",
              "      <th>3</th>\n",
              "      <td>TRMMMCH128F425532C</td>\n",
              "      <td>SOBNYVR12A8C13558C</td>\n",
              "      <td>Yerba Brava</td>\n",
              "      <td>Si Vos Querés</td>\n",
              "    </tr>\n",
              "    <tr>\n",
              "      <th>4</th>\n",
              "      <td>TRMMMWA128F426B589</td>\n",
              "      <td>SOHSBXH12A8C13B0DF</td>\n",
              "      <td>Der Mystic</td>\n",
              "      <td>Tangle Of Aspens</td>\n",
              "    </tr>\n",
              "  </tbody>\n",
              "</table>\n",
              "</div>"
            ],
            "text/plain": [
              "             Track ID            Songs ID          Composer          Song Name\n",
              "0  TRMMMYQ128F932D901  SOQMMHC12AB0180CB8  Faster Pussy cat       Silent Night\n",
              "1  TRMMMKD128F425225D  SOVFVAK12A8C1350D9  Karkkiautomaatti        Tanssi vaan\n",
              "2  TRMMMRX128F93187D9  SOGTUKN12AB017F4F1    Hudson Mohawke  No One Could Ever\n",
              "3  TRMMMCH128F425532C  SOBNYVR12A8C13558C       Yerba Brava      Si Vos Querés\n",
              "4  TRMMMWA128F426B589  SOHSBXH12A8C13B0DF        Der Mystic   Tangle Of Aspens"
            ]
          },
          "metadata": {
            "tags": []
          },
          "execution_count": 8
        }
      ]
    },
    {
      "cell_type": "code",
      "metadata": {
        "id": "D6zJ2J_TOaLj"
      },
      "source": [
        "unique_df.drop('Track ID',axis=1,inplace=True)"
      ],
      "execution_count": null,
      "outputs": []
    },
    {
      "cell_type": "code",
      "metadata": {
        "colab": {
          "base_uri": "https://localhost:8080/",
          "height": 166
        },
        "id": "zQmyHyJXRSlW",
        "outputId": "0f555b02-0d78-4658-add4-34f0ec8b78d7"
      },
      "source": [
        "unique_df.describe(include='all')"
      ],
      "execution_count": null,
      "outputs": [
        {
          "output_type": "execute_result",
          "data": {
            "text/html": [
              "<div>\n",
              "<style scoped>\n",
              "    .dataframe tbody tr th:only-of-type {\n",
              "        vertical-align: middle;\n",
              "    }\n",
              "\n",
              "    .dataframe tbody tr th {\n",
              "        vertical-align: top;\n",
              "    }\n",
              "\n",
              "    .dataframe thead th {\n",
              "        text-align: right;\n",
              "    }\n",
              "</style>\n",
              "<table border=\"1\" class=\"dataframe\">\n",
              "  <thead>\n",
              "    <tr style=\"text-align: right;\">\n",
              "      <th></th>\n",
              "      <th>Songs ID</th>\n",
              "      <th>Composer</th>\n",
              "      <th>Song Name</th>\n",
              "    </tr>\n",
              "  </thead>\n",
              "  <tbody>\n",
              "    <tr>\n",
              "      <th>count</th>\n",
              "      <td>1000000</td>\n",
              "      <td>1000000</td>\n",
              "      <td>999985</td>\n",
              "    </tr>\n",
              "    <tr>\n",
              "      <th>unique</th>\n",
              "      <td>999056</td>\n",
              "      <td>72665</td>\n",
              "      <td>702000</td>\n",
              "    </tr>\n",
              "    <tr>\n",
              "      <th>top</th>\n",
              "      <td>SOMFTUN12A6D4F60A5</td>\n",
              "      <td>Michael Jackson</td>\n",
              "      <td>Intro</td>\n",
              "    </tr>\n",
              "    <tr>\n",
              "      <th>freq</th>\n",
              "      <td>3</td>\n",
              "      <td>194</td>\n",
              "      <td>1511</td>\n",
              "    </tr>\n",
              "  </tbody>\n",
              "</table>\n",
              "</div>"
            ],
            "text/plain": [
              "                  Songs ID         Composer Song Name\n",
              "count              1000000          1000000    999985\n",
              "unique              999056            72665    702000\n",
              "top     SOMFTUN12A6D4F60A5  Michael Jackson     Intro\n",
              "freq                     3              194      1511"
            ]
          },
          "metadata": {
            "tags": []
          },
          "execution_count": 10
        }
      ]
    },
    {
      "cell_type": "code",
      "metadata": {
        "colab": {
          "base_uri": "https://localhost:8080/"
        },
        "id": "KBUbZBQlo-mP",
        "outputId": "44fdeabb-cd4d-4543-8bbc-4ab923507d6d"
      },
      "source": [
        "print(\"Shape of Visible evaluation triplets is {}\".format(vet_df.shape))"
      ],
      "execution_count": null,
      "outputs": [
        {
          "output_type": "stream",
          "text": [
            "Shape of Visible evaluation triplets is (1450933, 3)\n"
          ],
          "name": "stdout"
        }
      ]
    },
    {
      "cell_type": "code",
      "metadata": {
        "colab": {
          "base_uri": "https://localhost:8080/"
        },
        "id": "quQAe6q-KK38",
        "outputId": "697a4b9a-6da3-49dd-f37d-db6efd5c18fc"
      },
      "source": [
        "unique_df['Songs ID'].duplicated().sum()"
      ],
      "execution_count": null,
      "outputs": [
        {
          "output_type": "execute_result",
          "data": {
            "text/plain": [
              "944"
            ]
          },
          "metadata": {
            "tags": []
          },
          "execution_count": 12
        }
      ]
    },
    {
      "cell_type": "code",
      "metadata": {
        "colab": {
          "base_uri": "https://localhost:8080/"
        },
        "id": "PivuPrVOMZY4",
        "outputId": "75d5e9f6-7392-4421-b28f-c31b49e4ba66"
      },
      "source": [
        "unique_df.isnull().sum()"
      ],
      "execution_count": null,
      "outputs": [
        {
          "output_type": "execute_result",
          "data": {
            "text/plain": [
              "Songs ID      0\n",
              "Composer      0\n",
              "Song Name    15\n",
              "dtype: int64"
            ]
          },
          "metadata": {
            "tags": []
          },
          "execution_count": 13
        }
      ]
    },
    {
      "cell_type": "code",
      "metadata": {
        "id": "1GWoJcMLMGpz"
      },
      "source": [
        "unique_df['Song Name'] = unique_df['Song Name'].fillna(unique_df['Song Name'].mode()[0])"
      ],
      "execution_count": null,
      "outputs": []
    },
    {
      "cell_type": "code",
      "metadata": {
        "colab": {
          "base_uri": "https://localhost:8080/"
        },
        "id": "AhsaDFRxMzE6",
        "outputId": "da29a93d-1095-41ef-dbef-7c608581bcfe"
      },
      "source": [
        "unique_df.isnull().sum()"
      ],
      "execution_count": null,
      "outputs": [
        {
          "output_type": "execute_result",
          "data": {
            "text/plain": [
              "Songs ID     0\n",
              "Composer     0\n",
              "Song Name    0\n",
              "dtype: int64"
            ]
          },
          "metadata": {
            "tags": []
          },
          "execution_count": 15
        }
      ]
    },
    {
      "cell_type": "markdown",
      "metadata": {
        "id": "yDToW-4JFXWA"
      },
      "source": [
        "## Merging the Datasets"
      ]
    },
    {
      "cell_type": "code",
      "metadata": {
        "id": "Jz8oW8ENDWdS"
      },
      "source": [
        "combined = pd.merge(vet_df,unique_df,on='Songs ID')"
      ],
      "execution_count": null,
      "outputs": []
    },
    {
      "cell_type": "code",
      "metadata": {
        "colab": {
          "base_uri": "https://localhost:8080/"
        },
        "id": "rX4wFL_EzGnV",
        "outputId": "2a0ba945-5ca1-45ba-f712-5579f8eb7482"
      },
      "source": [
        "len(combined)"
      ],
      "execution_count": null,
      "outputs": [
        {
          "output_type": "execute_result",
          "data": {
            "text/plain": [
              "1491952"
            ]
          },
          "metadata": {
            "tags": []
          },
          "execution_count": 17
        }
      ]
    },
    {
      "cell_type": "code",
      "metadata": {
        "colab": {
          "base_uri": "https://localhost:8080/",
          "height": 195
        },
        "id": "YYSex7GUo-pr",
        "outputId": "7c6e2bc1-c298-4369-fed8-846f7967dc3c"
      },
      "source": [
        "combined.head(5)"
      ],
      "execution_count": null,
      "outputs": [
        {
          "output_type": "execute_result",
          "data": {
            "text/html": [
              "<div>\n",
              "<style scoped>\n",
              "    .dataframe tbody tr th:only-of-type {\n",
              "        vertical-align: middle;\n",
              "    }\n",
              "\n",
              "    .dataframe tbody tr th {\n",
              "        vertical-align: top;\n",
              "    }\n",
              "\n",
              "    .dataframe thead th {\n",
              "        text-align: right;\n",
              "    }\n",
              "</style>\n",
              "<table border=\"1\" class=\"dataframe\">\n",
              "  <thead>\n",
              "    <tr style=\"text-align: right;\">\n",
              "      <th></th>\n",
              "      <th>user_id</th>\n",
              "      <th>Songs ID</th>\n",
              "      <th>Frequency</th>\n",
              "      <th>Composer</th>\n",
              "      <th>Song Name</th>\n",
              "    </tr>\n",
              "  </thead>\n",
              "  <tbody>\n",
              "    <tr>\n",
              "      <th>0</th>\n",
              "      <td>fd50c4007b68a3737fe052d5a4f78ce8aa117f3d</td>\n",
              "      <td>SOBONKR12A58A7A7E0</td>\n",
              "      <td>1</td>\n",
              "      <td>Dwight Yoakam</td>\n",
              "      <td>You're The One</td>\n",
              "    </tr>\n",
              "    <tr>\n",
              "      <th>1</th>\n",
              "      <td>c34670d9c1718361feb93068a853cead3c95b76a</td>\n",
              "      <td>SOBONKR12A58A7A7E0</td>\n",
              "      <td>1</td>\n",
              "      <td>Dwight Yoakam</td>\n",
              "      <td>You're The One</td>\n",
              "    </tr>\n",
              "    <tr>\n",
              "      <th>2</th>\n",
              "      <td>c5006d9f41f68ccccbf5ee29212b6af494110c5e</td>\n",
              "      <td>SOBONKR12A58A7A7E0</td>\n",
              "      <td>1</td>\n",
              "      <td>Dwight Yoakam</td>\n",
              "      <td>You're The One</td>\n",
              "    </tr>\n",
              "    <tr>\n",
              "      <th>3</th>\n",
              "      <td>e4332e11f4df6dd26673bb6b085e9a2bbdc9b8a5</td>\n",
              "      <td>SOBONKR12A58A7A7E0</td>\n",
              "      <td>2</td>\n",
              "      <td>Dwight Yoakam</td>\n",
              "      <td>You're The One</td>\n",
              "    </tr>\n",
              "    <tr>\n",
              "      <th>4</th>\n",
              "      <td>baf2fe5885ab93fbbdb7fecc6691788e70afb6c8</td>\n",
              "      <td>SOBONKR12A58A7A7E0</td>\n",
              "      <td>4</td>\n",
              "      <td>Dwight Yoakam</td>\n",
              "      <td>You're The One</td>\n",
              "    </tr>\n",
              "  </tbody>\n",
              "</table>\n",
              "</div>"
            ],
            "text/plain": [
              "                                    user_id  ...       Song Name\n",
              "0  fd50c4007b68a3737fe052d5a4f78ce8aa117f3d  ...  You're The One\n",
              "1  c34670d9c1718361feb93068a853cead3c95b76a  ...  You're The One\n",
              "2  c5006d9f41f68ccccbf5ee29212b6af494110c5e  ...  You're The One\n",
              "3  e4332e11f4df6dd26673bb6b085e9a2bbdc9b8a5  ...  You're The One\n",
              "4  baf2fe5885ab93fbbdb7fecc6691788e70afb6c8  ...  You're The One\n",
              "\n",
              "[5 rows x 5 columns]"
            ]
          },
          "metadata": {
            "tags": []
          },
          "execution_count": 18
        }
      ]
    },
    {
      "cell_type": "code",
      "metadata": {
        "colab": {
          "base_uri": "https://localhost:8080/",
          "height": 195
        },
        "id": "9nYbMvgOo-tD",
        "outputId": "9b2e33f1-d62f-4761-8eb8-a92195ad66c5"
      },
      "source": [
        "combined.tail()"
      ],
      "execution_count": null,
      "outputs": [
        {
          "output_type": "execute_result",
          "data": {
            "text/html": [
              "<div>\n",
              "<style scoped>\n",
              "    .dataframe tbody tr th:only-of-type {\n",
              "        vertical-align: middle;\n",
              "    }\n",
              "\n",
              "    .dataframe tbody tr th {\n",
              "        vertical-align: top;\n",
              "    }\n",
              "\n",
              "    .dataframe thead th {\n",
              "        text-align: right;\n",
              "    }\n",
              "</style>\n",
              "<table border=\"1\" class=\"dataframe\">\n",
              "  <thead>\n",
              "    <tr style=\"text-align: right;\">\n",
              "      <th></th>\n",
              "      <th>user_id</th>\n",
              "      <th>Songs ID</th>\n",
              "      <th>Frequency</th>\n",
              "      <th>Composer</th>\n",
              "      <th>Song Name</th>\n",
              "    </tr>\n",
              "  </thead>\n",
              "  <tbody>\n",
              "    <tr>\n",
              "      <th>1491947</th>\n",
              "      <td>9d2f78e2bda5a004879d3ee53ee7de5cdf99c730</td>\n",
              "      <td>SOIDWNE12A8C13E669</td>\n",
              "      <td>1</td>\n",
              "      <td>Our Broken Garden</td>\n",
              "      <td>The Blinding</td>\n",
              "    </tr>\n",
              "    <tr>\n",
              "      <th>1491948</th>\n",
              "      <td>987b654b09b239f7c47751e0cfaa2990834cbb55</td>\n",
              "      <td>SOATNWN12A6D4F826F</td>\n",
              "      <td>1</td>\n",
              "      <td>Emilio</td>\n",
              "      <td>Como A Nadie</td>\n",
              "    </tr>\n",
              "    <tr>\n",
              "      <th>1491949</th>\n",
              "      <td>987b654b09b239f7c47751e0cfaa2990834cbb55</td>\n",
              "      <td>SOGMCFE12AB018A3A1</td>\n",
              "      <td>3</td>\n",
              "      <td>Morbid Angel</td>\n",
              "      <td>Victorious March Of Reign The Conqueror</td>\n",
              "    </tr>\n",
              "    <tr>\n",
              "      <th>1491950</th>\n",
              "      <td>fc072bde2043756ea30ff07e4a5311e34825b4df</td>\n",
              "      <td>SOBAOTU12A6D4F7A68</td>\n",
              "      <td>1</td>\n",
              "      <td>Gus Gus</td>\n",
              "      <td>Call of the Wild</td>\n",
              "    </tr>\n",
              "    <tr>\n",
              "      <th>1491951</th>\n",
              "      <td>fc072bde2043756ea30ff07e4a5311e34825b4df</td>\n",
              "      <td>SOGWSIO12A8C133A5B</td>\n",
              "      <td>1</td>\n",
              "      <td>Gus Gus</td>\n",
              "      <td>Snoozer</td>\n",
              "    </tr>\n",
              "  </tbody>\n",
              "</table>\n",
              "</div>"
            ],
            "text/plain": [
              "                                          user_id  ...                                Song Name\n",
              "1491947  9d2f78e2bda5a004879d3ee53ee7de5cdf99c730  ...                             The Blinding\n",
              "1491948  987b654b09b239f7c47751e0cfaa2990834cbb55  ...                             Como A Nadie\n",
              "1491949  987b654b09b239f7c47751e0cfaa2990834cbb55  ...  Victorious March Of Reign The Conqueror\n",
              "1491950  fc072bde2043756ea30ff07e4a5311e34825b4df  ...                         Call of the Wild\n",
              "1491951  fc072bde2043756ea30ff07e4a5311e34825b4df  ...                                  Snoozer\n",
              "\n",
              "[5 rows x 5 columns]"
            ]
          },
          "metadata": {
            "tags": []
          },
          "execution_count": 19
        }
      ]
    },
    {
      "cell_type": "markdown",
      "metadata": {
        "id": "Q_jQpw_0Q-q7"
      },
      "source": [
        "## Total no of Users, Songs and Composers\n"
      ]
    },
    {
      "cell_type": "code",
      "metadata": {
        "colab": {
          "base_uri": "https://localhost:8080/"
        },
        "id": "f1OJaVNnRGfT",
        "outputId": "249600bc-6e8e-4d53-e900-8a7bd009d7b2"
      },
      "source": [
        "no_of_users = len(pd.unique(combined['user_id']))\n",
        "print('Total no of Unique Users:',no_of_users)"
      ],
      "execution_count": null,
      "outputs": [
        {
          "output_type": "stream",
          "text": [
            "Total no of Unique Users: 110000\n"
          ],
          "name": "stdout"
        }
      ]
    },
    {
      "cell_type": "code",
      "metadata": {
        "colab": {
          "base_uri": "https://localhost:8080/"
        },
        "id": "e1SQFEBpRuDO",
        "outputId": "bbd48a82-843d-410c-bf96-dbe27e99276b"
      },
      "source": [
        "no_of_songs = len(pd.unique(combined['Songs ID']))\n",
        "print('Total no of Unique Songs:',no_of_songs)"
      ],
      "execution_count": null,
      "outputs": [
        {
          "output_type": "stream",
          "text": [
            "Total no of Unique Songs: 163206\n"
          ],
          "name": "stdout"
        }
      ]
    },
    {
      "cell_type": "code",
      "metadata": {
        "colab": {
          "base_uri": "https://localhost:8080/"
        },
        "id": "pni5uqDGRuUE",
        "outputId": "59f4976c-86e8-4408-f402-c68f5a357e7f"
      },
      "source": [
        "unique_artists = len(pd.unique(combined['Composer']))\n",
        "print('Total no of Unique Artists:',unique_artists)"
      ],
      "execution_count": null,
      "outputs": [
        {
          "output_type": "stream",
          "text": [
            "Total no of Unique Artists: 28367\n"
          ],
          "name": "stdout"
        }
      ]
    },
    {
      "cell_type": "code",
      "metadata": {
        "colab": {
          "base_uri": "https://localhost:8080/"
        },
        "id": "aO7OTwx_1zlg",
        "outputId": "36ba4e90-1d0d-4a54-8761-430f46bf3a36"
      },
      "source": [
        "users = combined['user_id'].unique()\n",
        "len(users)"
      ],
      "execution_count": null,
      "outputs": [
        {
          "output_type": "execute_result",
          "data": {
            "text/plain": [
              "110000"
            ]
          },
          "metadata": {
            "tags": []
          },
          "execution_count": 23
        }
      ]
    },
    {
      "cell_type": "markdown",
      "metadata": {
        "id": "2xy41OCT6Iiq"
      },
      "source": [
        "## Total Unique no of Songs Listened by per User"
      ]
    },
    {
      "cell_type": "code",
      "metadata": {
        "colab": {
          "base_uri": "https://localhost:8080/"
        },
        "id": "TrT_qv7a4ckk",
        "outputId": "8c39d711-df10-437a-a48e-8e607ed41e05"
      },
      "source": [
        "  Songs_per_user = combined.groupby('user_id')['Songs ID'].count()\n",
        "  Songs_per_user"
      ],
      "execution_count": null,
      "outputs": [
        {
          "output_type": "execute_result",
          "data": {
            "text/plain": [
              "user_id\n",
              "00007a02388c208ea7176479f6ae06f8224355b3     9\n",
              "00014a76ed063e1a749171a253bca9d9a0ff1782    11\n",
              "00015189668691680bb1a2e58afde1541ec92ced    17\n",
              "0001ff7aa2667c8d8b945317b88adaed1c0b9dc2     9\n",
              "00020fcd8b01986a6a85b896ccde6c49f35142ad    32\n",
              "                                            ..\n",
              "fffdef71f13352e9cff769f1d96f5ccf90f8955e     7\n",
              "fffe29116f96c97b47a5dabdd406784ad0ba6f30     6\n",
              "fffe5b73c50c72ca9c54947efac1fcacf59c4a17    23\n",
              "fffed0bee753cd78494011b8b55dafd4f5c7e5ff    13\n",
              "ffff07d7d9bb187aa58c7b81b3d3f35e7cf7c0ee    13\n",
              "Name: Songs ID, Length: 110000, dtype: int64"
            ]
          },
          "metadata": {
            "tags": []
          },
          "execution_count": 24
        }
      ]
    },
    {
      "cell_type": "code",
      "metadata": {
        "colab": {
          "base_uri": "https://localhost:8080/"
        },
        "id": "XnugqDQP5jyw",
        "outputId": "03c4090c-9fb8-4e35-e1b6-ee1959ca292c"
      },
      "source": [
        "Songs_per_user.describe()"
      ],
      "execution_count": null,
      "outputs": [
        {
          "output_type": "execute_result",
          "data": {
            "text/plain": [
              "count    110000.000000\n",
              "mean         13.563200\n",
              "std           8.321648\n",
              "min           5.000000\n",
              "25%           7.000000\n",
              "50%          11.000000\n",
              "75%          18.000000\n",
              "max          57.000000\n",
              "Name: Songs ID, dtype: float64"
            ]
          },
          "metadata": {
            "tags": []
          },
          "execution_count": 25
        }
      ]
    },
    {
      "cell_type": "code",
      "metadata": {
        "colab": {
          "base_uri": "https://localhost:8080/"
        },
        "id": "a3TWhLpM6VEj",
        "outputId": "fd286279-f530-429b-8c90-5006b0eeb7bc"
      },
      "source": [
        "Songs_per_user.sort_values(ascending=False).head()"
      ],
      "execution_count": null,
      "outputs": [
        {
          "output_type": "execute_result",
          "data": {
            "text/plain": [
              "user_id\n",
              "316110734d8da7478cc33237458814f770a9eb7a    57\n",
              "ad4b2717e89766b66b96fe52a38736116e315874    57\n",
              "d30e18323f15426c3cdc8585252ed34459916f51    55\n",
              "3233c598c50f0ddbd351504e773cd51de79691db    55\n",
              "016a24e91a72c159a5048ab1b9b2ba5ce761b526    54\n",
              "Name: Songs ID, dtype: int64"
            ]
          },
          "metadata": {
            "tags": []
          },
          "execution_count": 26
        }
      ]
    },
    {
      "cell_type": "code",
      "metadata": {
        "colab": {
          "base_uri": "https://localhost:8080/"
        },
        "id": "cPqldl7n6yFO",
        "outputId": "6b9d3ddc-3dcd-4466-81f1-15b0991b5539"
      },
      "source": [
        "Songs_per_user.sort_values(ascending=True).head()"
      ],
      "execution_count": null,
      "outputs": [
        {
          "output_type": "execute_result",
          "data": {
            "text/plain": [
              "user_id\n",
              "b4f681dac463c297568bffe7f4b646b74a5e6d0d    5\n",
              "1691b9058739f0b88ac2777e5bbffe0e1d400f2d    5\n",
              "d1764e1f4626164793d400b95efb4a5f80a06cf9    5\n",
              "d1776bb80cf8298288974c52f903cc3b9601761a    5\n",
              "98d00906e235bede8d2b14b9cf5b802ee2438231    5\n",
              "Name: Songs ID, dtype: int64"
            ]
          },
          "metadata": {
            "tags": []
          },
          "execution_count": 27
        }
      ]
    },
    {
      "cell_type": "markdown",
      "metadata": {
        "id": "clyBZ5ECZxXC"
      },
      "source": [
        "# Recommendation Engine"
      ]
    },
    {
      "cell_type": "markdown",
      "metadata": {
        "id": "zhAI7yStlKse"
      },
      "source": [
        "## Popularity Recommendation System \n",
        "\n",
        "* It is a type of recommendation system which works on the principle of popularity and or anything which is in trend. ​\n",
        "​\n",
        "\n",
        "* These systems check about the product or songs which are in trend or are most popular among the users and directly recommend those."
      ]
    },
    {
      "cell_type": "markdown",
      "metadata": {
        "id": "Iar7qc-RypSp"
      },
      "source": [
        "## Popularity based Recommendation Engine"
      ]
    },
    {
      "cell_type": "code",
      "metadata": {
        "colab": {
          "base_uri": "https://localhost:8080/",
          "height": 195
        },
        "id": "3vJKhr60ywkD",
        "outputId": "771dbfbc-f20f-4016-d4ef-b5de07b0efae"
      },
      "source": [
        "combined['Artist Name - Song Name'] = combined[\"Composer\"] + ' - ' + combined[\"Song Name\"]\n",
        "combined.head()"
      ],
      "execution_count": null,
      "outputs": [
        {
          "output_type": "execute_result",
          "data": {
            "text/html": [
              "<div>\n",
              "<style scoped>\n",
              "    .dataframe tbody tr th:only-of-type {\n",
              "        vertical-align: middle;\n",
              "    }\n",
              "\n",
              "    .dataframe tbody tr th {\n",
              "        vertical-align: top;\n",
              "    }\n",
              "\n",
              "    .dataframe thead th {\n",
              "        text-align: right;\n",
              "    }\n",
              "</style>\n",
              "<table border=\"1\" class=\"dataframe\">\n",
              "  <thead>\n",
              "    <tr style=\"text-align: right;\">\n",
              "      <th></th>\n",
              "      <th>user_id</th>\n",
              "      <th>Songs ID</th>\n",
              "      <th>Frequency</th>\n",
              "      <th>Composer</th>\n",
              "      <th>Song Name</th>\n",
              "      <th>Artist Name - Song Name</th>\n",
              "    </tr>\n",
              "  </thead>\n",
              "  <tbody>\n",
              "    <tr>\n",
              "      <th>0</th>\n",
              "      <td>fd50c4007b68a3737fe052d5a4f78ce8aa117f3d</td>\n",
              "      <td>SOBONKR12A58A7A7E0</td>\n",
              "      <td>1</td>\n",
              "      <td>Dwight Yoakam</td>\n",
              "      <td>You're The One</td>\n",
              "      <td>Dwight Yoakam - You're The One</td>\n",
              "    </tr>\n",
              "    <tr>\n",
              "      <th>1</th>\n",
              "      <td>c34670d9c1718361feb93068a853cead3c95b76a</td>\n",
              "      <td>SOBONKR12A58A7A7E0</td>\n",
              "      <td>1</td>\n",
              "      <td>Dwight Yoakam</td>\n",
              "      <td>You're The One</td>\n",
              "      <td>Dwight Yoakam - You're The One</td>\n",
              "    </tr>\n",
              "    <tr>\n",
              "      <th>2</th>\n",
              "      <td>c5006d9f41f68ccccbf5ee29212b6af494110c5e</td>\n",
              "      <td>SOBONKR12A58A7A7E0</td>\n",
              "      <td>1</td>\n",
              "      <td>Dwight Yoakam</td>\n",
              "      <td>You're The One</td>\n",
              "      <td>Dwight Yoakam - You're The One</td>\n",
              "    </tr>\n",
              "    <tr>\n",
              "      <th>3</th>\n",
              "      <td>e4332e11f4df6dd26673bb6b085e9a2bbdc9b8a5</td>\n",
              "      <td>SOBONKR12A58A7A7E0</td>\n",
              "      <td>2</td>\n",
              "      <td>Dwight Yoakam</td>\n",
              "      <td>You're The One</td>\n",
              "      <td>Dwight Yoakam - You're The One</td>\n",
              "    </tr>\n",
              "    <tr>\n",
              "      <th>4</th>\n",
              "      <td>baf2fe5885ab93fbbdb7fecc6691788e70afb6c8</td>\n",
              "      <td>SOBONKR12A58A7A7E0</td>\n",
              "      <td>4</td>\n",
              "      <td>Dwight Yoakam</td>\n",
              "      <td>You're The One</td>\n",
              "      <td>Dwight Yoakam - You're The One</td>\n",
              "    </tr>\n",
              "  </tbody>\n",
              "</table>\n",
              "</div>"
            ],
            "text/plain": [
              "                                    user_id  ...         Artist Name - Song Name\n",
              "0  fd50c4007b68a3737fe052d5a4f78ce8aa117f3d  ...  Dwight Yoakam - You're The One\n",
              "1  c34670d9c1718361feb93068a853cead3c95b76a  ...  Dwight Yoakam - You're The One\n",
              "2  c5006d9f41f68ccccbf5ee29212b6af494110c5e  ...  Dwight Yoakam - You're The One\n",
              "3  e4332e11f4df6dd26673bb6b085e9a2bbdc9b8a5  ...  Dwight Yoakam - You're The One\n",
              "4  baf2fe5885ab93fbbdb7fecc6691788e70afb6c8  ...  Dwight Yoakam - You're The One\n",
              "\n",
              "[5 rows x 6 columns]"
            ]
          },
          "metadata": {
            "tags": []
          },
          "execution_count": 45
        }
      ]
    },
    {
      "cell_type": "code",
      "metadata": {
        "colab": {
          "base_uri": "https://localhost:8080/",
          "height": 402
        },
        "id": "lrUzrEAXtEOJ",
        "outputId": "ffca83b1-9dc2-4aca-8c27-91d5ad461e04"
      },
      "source": [
        "song_grouped = combined.groupby(['Artist Name - Song Name']).agg({'Frequency': 'count'}).reset_index()\n",
        "grouped_sum = song_grouped['Frequency'].sum()\n",
        "song_grouped['percentage']  = song_grouped['Frequency'] / (grouped_sum) *100\n",
        "song_grouped.sort_values(['Frequency', 'Artist Name - Song Name'], ascending = False)"
      ],
      "execution_count": null,
      "outputs": [
        {
          "output_type": "execute_result",
          "data": {
            "text/html": [
              "<div>\n",
              "<style scoped>\n",
              "    .dataframe tbody tr th:only-of-type {\n",
              "        vertical-align: middle;\n",
              "    }\n",
              "\n",
              "    .dataframe tbody tr th {\n",
              "        vertical-align: top;\n",
              "    }\n",
              "\n",
              "    .dataframe thead th {\n",
              "        text-align: right;\n",
              "    }\n",
              "</style>\n",
              "<table border=\"1\" class=\"dataframe\">\n",
              "  <thead>\n",
              "    <tr style=\"text-align: right;\">\n",
              "      <th></th>\n",
              "      <th>Artist Name - Song Name</th>\n",
              "      <th>Frequency</th>\n",
              "      <th>percentage</th>\n",
              "    </tr>\n",
              "  </thead>\n",
              "  <tbody>\n",
              "    <tr>\n",
              "      <th>59898</th>\n",
              "      <td>Harmonia - Sehr kosmisch</td>\n",
              "      <td>5043</td>\n",
              "      <td>0.338014</td>\n",
              "    </tr>\n",
              "    <tr>\n",
              "      <th>17182</th>\n",
              "      <td>Björk - Undo</td>\n",
              "      <td>4483</td>\n",
              "      <td>0.300479</td>\n",
              "    </tr>\n",
              "    <tr>\n",
              "      <th>42724</th>\n",
              "      <td>Dwight Yoakam - You're The One</td>\n",
              "      <td>4136</td>\n",
              "      <td>0.277221</td>\n",
              "    </tr>\n",
              "    <tr>\n",
              "      <th>77698</th>\n",
              "      <td>Kings Of Leon - Use Somebody</td>\n",
              "      <td>3822</td>\n",
              "      <td>0.256174</td>\n",
              "    </tr>\n",
              "    <tr>\n",
              "      <th>51343</th>\n",
              "      <td>Florence + The Machine - Dog Days Are Over (Ra...</td>\n",
              "      <td>3780</td>\n",
              "      <td>0.253359</td>\n",
              "    </tr>\n",
              "    <tr>\n",
              "      <th>...</th>\n",
              "      <td>...</td>\n",
              "      <td>...</td>\n",
              "      <td>...</td>\n",
              "    </tr>\n",
              "    <tr>\n",
              "      <th>15</th>\n",
              "      <td>'68 Comeback - A Long Time Ago</td>\n",
              "      <td>1</td>\n",
              "      <td>0.000067</td>\n",
              "    </tr>\n",
              "    <tr>\n",
              "      <th>14</th>\n",
              "      <td>'68 Comeback - A Little Bitch (And A Little Bi...</td>\n",
              "      <td>1</td>\n",
              "      <td>0.000067</td>\n",
              "    </tr>\n",
              "    <tr>\n",
              "      <th>13</th>\n",
              "      <td>&amp; And Oceans - Odious And Devious</td>\n",
              "      <td>1</td>\n",
              "      <td>0.000067</td>\n",
              "    </tr>\n",
              "    <tr>\n",
              "      <th>12</th>\n",
              "      <td>&amp; And Oceans - Aphelion: Light Evanescence: In...</td>\n",
              "      <td>1</td>\n",
              "      <td>0.000067</td>\n",
              "    </tr>\n",
              "    <tr>\n",
              "      <th>10</th>\n",
              "      <td>!Deladap - Dela Paji</td>\n",
              "      <td>1</td>\n",
              "      <td>0.000067</td>\n",
              "    </tr>\n",
              "  </tbody>\n",
              "</table>\n",
              "<p>162110 rows × 3 columns</p>\n",
              "</div>"
            ],
            "text/plain": [
              "                                 Artist Name - Song Name  Frequency  percentage\n",
              "59898                           Harmonia - Sehr kosmisch       5043    0.338014\n",
              "17182                                       Björk - Undo       4483    0.300479\n",
              "42724                     Dwight Yoakam - You're The One       4136    0.277221\n",
              "77698                       Kings Of Leon - Use Somebody       3822    0.256174\n",
              "51343  Florence + The Machine - Dog Days Are Over (Ra...       3780    0.253359\n",
              "...                                                  ...        ...         ...\n",
              "15                        '68 Comeback - A Long Time Ago          1    0.000067\n",
              "14     '68 Comeback - A Little Bitch (And A Little Bi...          1    0.000067\n",
              "13                     & And Oceans - Odious And Devious          1    0.000067\n",
              "12     & And Oceans - Aphelion: Light Evanescence: In...          1    0.000067\n",
              "10                                  !Deladap - Dela Paji          1    0.000067\n",
              "\n",
              "[162110 rows x 3 columns]"
            ]
          },
          "metadata": {
            "tags": []
          },
          "execution_count": 55
        }
      ]
    },
    {
      "cell_type": "markdown",
      "metadata": {
        "id": "_ZhRTMN1l4p5"
      },
      "source": [
        "**Train Test Split**\n",
        "\n",
        "* Since we have a huge dataset we split the data into training and testing dataset.​\n",
        "\n",
        "\n",
        "* Through this, we can minimize the effects of data  discrepancies and better understand the characteristics of the model by building the recommended system.​"
      ]
    },
    {
      "cell_type": "code",
      "metadata": {
        "id": "yEVPtWOJ0P0x"
      },
      "source": [
        "import sklearn\n",
        "from sklearn.model_selection import train_test_split \n",
        "train_data, test_data = train_test_split(combined, test_size = 0.25, random_state=0)"
      ],
      "execution_count": null,
      "outputs": []
    },
    {
      "cell_type": "markdown",
      "metadata": {
        "id": "UhJIJFAVmE9P"
      },
      "source": [
        "**Python code for creating a Popularity Recommendation Engine**"
      ]
    },
    {
      "cell_type": "code",
      "metadata": {
        "id": "focvZMgW0P-S"
      },
      "source": [
        "#Class for Popularity based Recommender System model\n",
        "\n",
        "class Popularity_Recommendation_engine():\n",
        "    def __init__(self):\n",
        "        self.train_data = None\n",
        "        self.user_id = None\n",
        "        self.item_id = None\n",
        "        self.popularity_recommendations = None\n",
        "        \n",
        "    #Create the popularity based recommender system model\n",
        "\n",
        "    def create(self, train_data, user_id, item_id):\n",
        "        self.train_data = train_data\n",
        "        self.user_id = user_id\n",
        "        self.item_id = item_id\n",
        "\n",
        "        #Get a count of user_ids for each unique song as recommendation score\n",
        "\n",
        "        train_data_grouped = train_data.groupby([self.item_id]).agg({self.user_id: 'count'}).reset_index()\n",
        "        train_data_grouped.rename(columns = {'user_id': 'score'},inplace=True)\n",
        "    \n",
        "        #Sort the songs based upon recommendation score\n",
        "\n",
        "        train_data_sort = train_data_grouped.sort_values(['score', self.item_id], ascending = [0,1])\n",
        "    \n",
        "        #Generate a recommendation rank based upon score\n",
        "\n",
        "        train_data_sort['Rank'] = train_data_sort['score'].rank(ascending=0, method='first')\n",
        "        \n",
        "        #Get the top 10 recommendations\n",
        "\n",
        "        self.popularity_recommendations = train_data_sort.head(15)\n",
        "\n",
        "    #Use the popularity based recommender system model to make recommendations\n",
        "    \n",
        "    def recommend(self, user_id):    \n",
        "        user_recommendations = self.popularity_recommendations\n",
        "        \n",
        "        #Add user_id column for which the recommendations are being generated\n",
        "        user_recommendations['user_id'] = user_id\n",
        "    \n",
        "        #Bring user_id column to the front\n",
        "        cols = user_recommendations.columns.tolist()\n",
        "        cols = cols[-1:] + cols[:-1]\n",
        "        user_recommendations = user_recommendations[cols]\n",
        "        \n",
        "        return user_recommendations"
      ],
      "execution_count": null,
      "outputs": []
    },
    {
      "cell_type": "code",
      "metadata": {
        "colab": {
          "base_uri": "https://localhost:8080/",
          "height": 491
        },
        "id": "CYgvIYOC0QGx",
        "outputId": "081013aa-38fd-4ae9-d63f-37ab0c02c8ec"
      },
      "source": [
        "pre = Popularity_Recommendation_engine()\n",
        "pre.create(train_data, 'user_id','Artist Name - Song Name')\n",
        "user_id = users[10]\n",
        "pre.recommend(user_id)"
      ],
      "execution_count": null,
      "outputs": [
        {
          "output_type": "execute_result",
          "data": {
            "text/html": [
              "<div>\n",
              "<style scoped>\n",
              "    .dataframe tbody tr th:only-of-type {\n",
              "        vertical-align: middle;\n",
              "    }\n",
              "\n",
              "    .dataframe tbody tr th {\n",
              "        vertical-align: top;\n",
              "    }\n",
              "\n",
              "    .dataframe thead th {\n",
              "        text-align: right;\n",
              "    }\n",
              "</style>\n",
              "<table border=\"1\" class=\"dataframe\">\n",
              "  <thead>\n",
              "    <tr style=\"text-align: right;\">\n",
              "      <th></th>\n",
              "      <th>user_id</th>\n",
              "      <th>Artist Name - Song Name</th>\n",
              "      <th>score</th>\n",
              "      <th>Rank</th>\n",
              "    </tr>\n",
              "  </thead>\n",
              "  <tbody>\n",
              "    <tr>\n",
              "      <th>53363</th>\n",
              "      <td>bcb1e6d620cf522390d5c92bae26936928e0b588</td>\n",
              "      <td>Harmonia - Sehr kosmisch</td>\n",
              "      <td>3822</td>\n",
              "      <td>1.0</td>\n",
              "    </tr>\n",
              "    <tr>\n",
              "      <th>15379</th>\n",
              "      <td>bcb1e6d620cf522390d5c92bae26936928e0b588</td>\n",
              "      <td>Björk - Undo</td>\n",
              "      <td>3317</td>\n",
              "      <td>2.0</td>\n",
              "    </tr>\n",
              "    <tr>\n",
              "      <th>38114</th>\n",
              "      <td>bcb1e6d620cf522390d5c92bae26936928e0b588</td>\n",
              "      <td>Dwight Yoakam - You're The One</td>\n",
              "      <td>3134</td>\n",
              "      <td>3.0</td>\n",
              "    </tr>\n",
              "    <tr>\n",
              "      <th>69214</th>\n",
              "      <td>bcb1e6d620cf522390d5c92bae26936928e0b588</td>\n",
              "      <td>Kings Of Leon - Use Somebody</td>\n",
              "      <td>2868</td>\n",
              "      <td>4.0</td>\n",
              "    </tr>\n",
              "    <tr>\n",
              "      <th>45796</th>\n",
              "      <td>bcb1e6d620cf522390d5c92bae26936928e0b588</td>\n",
              "      <td>Florence + The Machine - Dog Days Are Over (Ra...</td>\n",
              "      <td>2860</td>\n",
              "      <td>5.0</td>\n",
              "    </tr>\n",
              "    <tr>\n",
              "      <th>69207</th>\n",
              "      <td>bcb1e6d620cf522390d5c92bae26936928e0b588</td>\n",
              "      <td>Kings Of Leon - Revelry</td>\n",
              "      <td>2793</td>\n",
              "      <td>6.0</td>\n",
              "    </tr>\n",
              "    <tr>\n",
              "      <th>92877</th>\n",
              "      <td>bcb1e6d620cf522390d5c92bae26936928e0b588</td>\n",
              "      <td>OneRepublic - Secrets</td>\n",
              "      <td>2566</td>\n",
              "      <td>7.0</td>\n",
              "    </tr>\n",
              "    <tr>\n",
              "      <th>11946</th>\n",
              "      <td>bcb1e6d620cf522390d5c92bae26936928e0b588</td>\n",
              "      <td>Barry Tuckwell/Academy of St Martin-in-the-Fie...</td>\n",
              "      <td>2459</td>\n",
              "      <td>8.0</td>\n",
              "    </tr>\n",
              "    <tr>\n",
              "      <th>66289</th>\n",
              "      <td>bcb1e6d620cf522390d5c92bae26936928e0b588</td>\n",
              "      <td>Justin Bieber - Somebody To Love</td>\n",
              "      <td>2445</td>\n",
              "      <td>9.0</td>\n",
              "    </tr>\n",
              "    <tr>\n",
              "      <th>135230</th>\n",
              "      <td>bcb1e6d620cf522390d5c92bae26936928e0b588</td>\n",
              "      <td>Train - Hey_ Soul Sister</td>\n",
              "      <td>2109</td>\n",
              "      <td>10.0</td>\n",
              "    </tr>\n",
              "    <tr>\n",
              "      <th>24393</th>\n",
              "      <td>bcb1e6d620cf522390d5c92bae26936928e0b588</td>\n",
              "      <td>Charttraxx Karaoke - Fireflies</td>\n",
              "      <td>2058</td>\n",
              "      <td>11.0</td>\n",
              "    </tr>\n",
              "    <tr>\n",
              "      <th>22991</th>\n",
              "      <td>bcb1e6d620cf522390d5c92bae26936928e0b588</td>\n",
              "      <td>Cartola - Tive Sim</td>\n",
              "      <td>2024</td>\n",
              "      <td>12.0</td>\n",
              "    </tr>\n",
              "    <tr>\n",
              "      <th>27455</th>\n",
              "      <td>bcb1e6d620cf522390d5c92bae26936928e0b588</td>\n",
              "      <td>Coldplay - Yellow</td>\n",
              "      <td>1965</td>\n",
              "      <td>13.0</td>\n",
              "    </tr>\n",
              "    <tr>\n",
              "      <th>119626</th>\n",
              "      <td>bcb1e6d620cf522390d5c92bae26936928e0b588</td>\n",
              "      <td>Taylor Swift - Love Story</td>\n",
              "      <td>1870</td>\n",
              "      <td>14.0</td>\n",
              "    </tr>\n",
              "    <tr>\n",
              "      <th>10777</th>\n",
              "      <td>bcb1e6d620cf522390d5c92bae26936928e0b588</td>\n",
              "      <td>B.o.B - Nothin' On You [feat. Bruno Mars] (Alb...</td>\n",
              "      <td>1759</td>\n",
              "      <td>15.0</td>\n",
              "    </tr>\n",
              "  </tbody>\n",
              "</table>\n",
              "</div>"
            ],
            "text/plain": [
              "                                         user_id  ...  Rank\n",
              "53363   bcb1e6d620cf522390d5c92bae26936928e0b588  ...   1.0\n",
              "15379   bcb1e6d620cf522390d5c92bae26936928e0b588  ...   2.0\n",
              "38114   bcb1e6d620cf522390d5c92bae26936928e0b588  ...   3.0\n",
              "69214   bcb1e6d620cf522390d5c92bae26936928e0b588  ...   4.0\n",
              "45796   bcb1e6d620cf522390d5c92bae26936928e0b588  ...   5.0\n",
              "69207   bcb1e6d620cf522390d5c92bae26936928e0b588  ...   6.0\n",
              "92877   bcb1e6d620cf522390d5c92bae26936928e0b588  ...   7.0\n",
              "11946   bcb1e6d620cf522390d5c92bae26936928e0b588  ...   8.0\n",
              "66289   bcb1e6d620cf522390d5c92bae26936928e0b588  ...   9.0\n",
              "135230  bcb1e6d620cf522390d5c92bae26936928e0b588  ...  10.0\n",
              "24393   bcb1e6d620cf522390d5c92bae26936928e0b588  ...  11.0\n",
              "22991   bcb1e6d620cf522390d5c92bae26936928e0b588  ...  12.0\n",
              "27455   bcb1e6d620cf522390d5c92bae26936928e0b588  ...  13.0\n",
              "119626  bcb1e6d620cf522390d5c92bae26936928e0b588  ...  14.0\n",
              "10777   bcb1e6d620cf522390d5c92bae26936928e0b588  ...  15.0\n",
              "\n",
              "[15 rows x 4 columns]"
            ]
          },
          "metadata": {
            "tags": []
          },
          "execution_count": 48
        }
      ]
    },
    {
      "cell_type": "markdown",
      "metadata": {
        "id": "i-WZqzGZ2IlC"
      },
      "source": [
        "## Cold Start Problem  \n",
        "\n",
        "\n",
        "* This problem arises when new users or new items are added to the system, a new item can’t recommend to users initially when it is introduced to the recommendation system without any rating or reviews and hence it is hard to predict the choice or interest of users which leads to less accurate recommendations. \n",
        "\n",
        "\n",
        "* For example, a newly released movie cannot be recommended to the user until it gets some ratings. A new user or item added based problem is difficult to handle as it is impossible to obtain a similar user without knowing previous interest or preferences. "
      ]
    }
  ]
}