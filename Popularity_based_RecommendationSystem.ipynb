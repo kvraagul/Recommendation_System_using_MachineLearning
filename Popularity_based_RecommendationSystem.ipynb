{
  "nbformat": 4,
  "nbformat_minor": 0,
  "metadata": {
    "colab": {
      "name": "Popularity_based_RecommendationSystem.ipynb",
      "provenance": []
    },
    "kernelspec": {
      "display_name": "Python 3",
      "name": "python3"
    },
    "language_info": {
      "name": "python"
    }
  },
  "cells": [
    {
      "cell_type": "markdown",
      "metadata": {
        "id": "YnHF5ju5E4cI"
      },
      "source": [
        "**MUSIC RECOMMENDATION SYSTEM (MACHINE LEARNING)**"
      ]
    },
    {
      "cell_type": "markdown",
      "metadata": {
        "id": "qxZT1fVcFBkJ"
      },
      "source": [
        "# Importing Libraries"
      ]
    },
    {
      "cell_type": "code",
      "metadata": {
        "id": "bgfkFnpKuzOJ"
      },
      "source": [
        "import numpy as np\n",
        "import pandas as pd\n",
        "import matplotlib.pyplot as plt\n",
        "import seaborn as sns\n",
        "%matplotlib inline\n",
        "\n",
        "import warnings\n",
        "warnings.filterwarnings('ignore')"
      ],
      "execution_count": 35,
      "outputs": []
    },
    {
      "cell_type": "code",
      "metadata": {
        "colab": {
          "base_uri": "https://localhost:8080/"
        },
        "id": "IT50I-GDsrBJ",
        "outputId": "752d24e0-1f72-4d46-8a85-1dfb1269b4db"
      },
      "source": [
        "from google.colab import drive\n",
        "drive.mount('/content/drive')"
      ],
      "execution_count": 36,
      "outputs": [
        {
          "output_type": "stream",
          "text": [
            "Drive already mounted at /content/drive; to attempt to forcibly remount, call drive.mount(\"/content/drive\", force_remount=True).\n"
          ],
          "name": "stdout"
        }
      ]
    },
    {
      "cell_type": "markdown",
      "metadata": {
        "id": "emZDHhxSFIOv"
      },
      "source": [
        "# Importing Datasets"
      ]
    },
    {
      "cell_type": "code",
      "metadata": {
        "id": "P1kjqXTJvUKk"
      },
      "source": [
        "vet_df = pd.read_csv('/content/drive/MyDrive/Machine Learning Projects/Music Recommendation System/Million Song Dataset/kaggle_visible_evaluation_triplets.txt',sep='\\t',names=['user_id','Songs ID','Frequency'])\n",
        "\n",
        "unique_df = pd.read_csv('/content/drive/MyDrive/Machine Learning Projects/Music Recommendation System/Million Song Dataset/unique_tracks.txt',sep='<SEP>',names=['Track ID','Songs ID','Composer','Song Name'])"
      ],
      "execution_count": 37,
      "outputs": []
    },
    {
      "cell_type": "markdown",
      "metadata": {
        "id": "WRp3wuRYGrHh"
      },
      "source": [
        "# Exploratory Data Analysis\n"
      ]
    },
    {
      "cell_type": "markdown",
      "metadata": {
        "id": "aP4Gg8uRG8XL"
      },
      "source": [
        "### Visible Evaluation Triplets Dataset \n",
        "\n",
        "It contains User ID, Songs ID, Frequency"
      ]
    },
    {
      "cell_type": "code",
      "metadata": {
        "colab": {
          "base_uri": "https://localhost:8080/",
          "height": 195
        },
        "id": "yFZPTbhWo-dA",
        "outputId": "625fa064-ca2c-4623-99d3-fcfd1518d5e0"
      },
      "source": [
        "vet_df.head()"
      ],
      "execution_count": 38,
      "outputs": [
        {
          "output_type": "execute_result",
          "data": {
            "text/html": [
              "<div>\n",
              "<style scoped>\n",
              "    .dataframe tbody tr th:only-of-type {\n",
              "        vertical-align: middle;\n",
              "    }\n",
              "\n",
              "    .dataframe tbody tr th {\n",
              "        vertical-align: top;\n",
              "    }\n",
              "\n",
              "    .dataframe thead th {\n",
              "        text-align: right;\n",
              "    }\n",
              "</style>\n",
              "<table border=\"1\" class=\"dataframe\">\n",
              "  <thead>\n",
              "    <tr style=\"text-align: right;\">\n",
              "      <th></th>\n",
              "      <th>user_id</th>\n",
              "      <th>Songs ID</th>\n",
              "      <th>Frequency</th>\n",
              "    </tr>\n",
              "  </thead>\n",
              "  <tbody>\n",
              "    <tr>\n",
              "      <th>0</th>\n",
              "      <td>fd50c4007b68a3737fe052d5a4f78ce8aa117f3d</td>\n",
              "      <td>SOBONKR12A58A7A7E0</td>\n",
              "      <td>1</td>\n",
              "    </tr>\n",
              "    <tr>\n",
              "      <th>1</th>\n",
              "      <td>fd50c4007b68a3737fe052d5a4f78ce8aa117f3d</td>\n",
              "      <td>SOEGIYH12A6D4FC0E3</td>\n",
              "      <td>1</td>\n",
              "    </tr>\n",
              "    <tr>\n",
              "      <th>2</th>\n",
              "      <td>fd50c4007b68a3737fe052d5a4f78ce8aa117f3d</td>\n",
              "      <td>SOFLJQZ12A6D4FADA6</td>\n",
              "      <td>1</td>\n",
              "    </tr>\n",
              "    <tr>\n",
              "      <th>3</th>\n",
              "      <td>fd50c4007b68a3737fe052d5a4f78ce8aa117f3d</td>\n",
              "      <td>SOHTKMO12AB01843B0</td>\n",
              "      <td>1</td>\n",
              "    </tr>\n",
              "    <tr>\n",
              "      <th>4</th>\n",
              "      <td>fd50c4007b68a3737fe052d5a4f78ce8aa117f3d</td>\n",
              "      <td>SODQZCY12A6D4F9D11</td>\n",
              "      <td>1</td>\n",
              "    </tr>\n",
              "  </tbody>\n",
              "</table>\n",
              "</div>"
            ],
            "text/plain": [
              "                                    user_id            Songs ID  Frequency\n",
              "0  fd50c4007b68a3737fe052d5a4f78ce8aa117f3d  SOBONKR12A58A7A7E0          1\n",
              "1  fd50c4007b68a3737fe052d5a4f78ce8aa117f3d  SOEGIYH12A6D4FC0E3          1\n",
              "2  fd50c4007b68a3737fe052d5a4f78ce8aa117f3d  SOFLJQZ12A6D4FADA6          1\n",
              "3  fd50c4007b68a3737fe052d5a4f78ce8aa117f3d  SOHTKMO12AB01843B0          1\n",
              "4  fd50c4007b68a3737fe052d5a4f78ce8aa117f3d  SODQZCY12A6D4F9D11          1"
            ]
          },
          "metadata": {
            "tags": []
          },
          "execution_count": 38
        }
      ]
    },
    {
      "cell_type": "code",
      "metadata": {
        "colab": {
          "base_uri": "https://localhost:8080/",
          "height": 373
        },
        "id": "SvQVDx0KRM9O",
        "outputId": "97d43270-d960-4121-e929-7c08446f622b"
      },
      "source": [
        "vet_df.describe(include= 'all')"
      ],
      "execution_count": 39,
      "outputs": [
        {
          "output_type": "execute_result",
          "data": {
            "text/html": [
              "<div>\n",
              "<style scoped>\n",
              "    .dataframe tbody tr th:only-of-type {\n",
              "        vertical-align: middle;\n",
              "    }\n",
              "\n",
              "    .dataframe tbody tr th {\n",
              "        vertical-align: top;\n",
              "    }\n",
              "\n",
              "    .dataframe thead th {\n",
              "        text-align: right;\n",
              "    }\n",
              "</style>\n",
              "<table border=\"1\" class=\"dataframe\">\n",
              "  <thead>\n",
              "    <tr style=\"text-align: right;\">\n",
              "      <th></th>\n",
              "      <th>user_id</th>\n",
              "      <th>Songs ID</th>\n",
              "      <th>Frequency</th>\n",
              "    </tr>\n",
              "  </thead>\n",
              "  <tbody>\n",
              "    <tr>\n",
              "      <th>count</th>\n",
              "      <td>1450933</td>\n",
              "      <td>1450933</td>\n",
              "      <td>1.450933e+06</td>\n",
              "    </tr>\n",
              "    <tr>\n",
              "      <th>unique</th>\n",
              "      <td>110000</td>\n",
              "      <td>163206</td>\n",
              "      <td>NaN</td>\n",
              "    </tr>\n",
              "    <tr>\n",
              "      <th>top</th>\n",
              "      <td>7d90be8dfdbde170f036ce8a4b915440137cb11c</td>\n",
              "      <td>SOFRQTD12A81C233C0</td>\n",
              "      <td>NaN</td>\n",
              "    </tr>\n",
              "    <tr>\n",
              "      <th>freq</th>\n",
              "      <td>53</td>\n",
              "      <td>5043</td>\n",
              "      <td>NaN</td>\n",
              "    </tr>\n",
              "    <tr>\n",
              "      <th>mean</th>\n",
              "      <td>NaN</td>\n",
              "      <td>NaN</td>\n",
              "      <td>3.187149e+00</td>\n",
              "    </tr>\n",
              "    <tr>\n",
              "      <th>std</th>\n",
              "      <td>NaN</td>\n",
              "      <td>NaN</td>\n",
              "      <td>7.051664e+00</td>\n",
              "    </tr>\n",
              "    <tr>\n",
              "      <th>min</th>\n",
              "      <td>NaN</td>\n",
              "      <td>NaN</td>\n",
              "      <td>1.000000e+00</td>\n",
              "    </tr>\n",
              "    <tr>\n",
              "      <th>25%</th>\n",
              "      <td>NaN</td>\n",
              "      <td>NaN</td>\n",
              "      <td>1.000000e+00</td>\n",
              "    </tr>\n",
              "    <tr>\n",
              "      <th>50%</th>\n",
              "      <td>NaN</td>\n",
              "      <td>NaN</td>\n",
              "      <td>1.000000e+00</td>\n",
              "    </tr>\n",
              "    <tr>\n",
              "      <th>75%</th>\n",
              "      <td>NaN</td>\n",
              "      <td>NaN</td>\n",
              "      <td>3.000000e+00</td>\n",
              "    </tr>\n",
              "    <tr>\n",
              "      <th>max</th>\n",
              "      <td>NaN</td>\n",
              "      <td>NaN</td>\n",
              "      <td>9.230000e+02</td>\n",
              "    </tr>\n",
              "  </tbody>\n",
              "</table>\n",
              "</div>"
            ],
            "text/plain": [
              "                                         user_id  ...     Frequency\n",
              "count                                    1450933  ...  1.450933e+06\n",
              "unique                                    110000  ...           NaN\n",
              "top     7d90be8dfdbde170f036ce8a4b915440137cb11c  ...           NaN\n",
              "freq                                          53  ...           NaN\n",
              "mean                                         NaN  ...  3.187149e+00\n",
              "std                                          NaN  ...  7.051664e+00\n",
              "min                                          NaN  ...  1.000000e+00\n",
              "25%                                          NaN  ...  1.000000e+00\n",
              "50%                                          NaN  ...  1.000000e+00\n",
              "75%                                          NaN  ...  3.000000e+00\n",
              "max                                          NaN  ...  9.230000e+02\n",
              "\n",
              "[11 rows x 3 columns]"
            ]
          },
          "metadata": {
            "tags": []
          },
          "execution_count": 39
        }
      ]
    },
    {
      "cell_type": "code",
      "metadata": {
        "colab": {
          "base_uri": "https://localhost:8080/"
        },
        "id": "JNdGcsVTFkq-",
        "outputId": "4b623ece-0971-42fd-fa47-027c4985fa5a"
      },
      "source": [
        "vet_df.isnull().sum()"
      ],
      "execution_count": 40,
      "outputs": [
        {
          "output_type": "execute_result",
          "data": {
            "text/plain": [
              "user_id      0\n",
              "Songs ID     0\n",
              "Frequency    0\n",
              "dtype: int64"
            ]
          },
          "metadata": {
            "tags": []
          },
          "execution_count": 40
        }
      ]
    },
    {
      "cell_type": "code",
      "metadata": {
        "colab": {
          "base_uri": "https://localhost:8080/"
        },
        "id": "0gC2v6z0Lj9b",
        "outputId": "25088abe-4f02-4f6d-fc63-332dca31b5e3"
      },
      "source": [
        "print(\"Shape of Visible evaluation triplets is {}\".format(vet_df.shape))"
      ],
      "execution_count": 41,
      "outputs": [
        {
          "output_type": "stream",
          "text": [
            "Shape of Visible evaluation triplets is (1450933, 3)\n"
          ],
          "name": "stdout"
        }
      ]
    },
    {
      "cell_type": "markdown",
      "metadata": {
        "id": "It6FK18mHdST"
      },
      "source": [
        "### Unique Tracks Dataset\n",
        "\n",
        "It contains Track ID, Songs ID, Composer, Song Name"
      ]
    },
    {
      "cell_type": "code",
      "metadata": {
        "colab": {
          "base_uri": "https://localhost:8080/",
          "height": 195
        },
        "id": "rcV-baNlvB-T",
        "outputId": "44fddd26-2fb4-46a0-c161-c1a253fc1400"
      },
      "source": [
        "unique_df.head()"
      ],
      "execution_count": 42,
      "outputs": [
        {
          "output_type": "execute_result",
          "data": {
            "text/html": [
              "<div>\n",
              "<style scoped>\n",
              "    .dataframe tbody tr th:only-of-type {\n",
              "        vertical-align: middle;\n",
              "    }\n",
              "\n",
              "    .dataframe tbody tr th {\n",
              "        vertical-align: top;\n",
              "    }\n",
              "\n",
              "    .dataframe thead th {\n",
              "        text-align: right;\n",
              "    }\n",
              "</style>\n",
              "<table border=\"1\" class=\"dataframe\">\n",
              "  <thead>\n",
              "    <tr style=\"text-align: right;\">\n",
              "      <th></th>\n",
              "      <th>Track ID</th>\n",
              "      <th>Songs ID</th>\n",
              "      <th>Composer</th>\n",
              "      <th>Song Name</th>\n",
              "    </tr>\n",
              "  </thead>\n",
              "  <tbody>\n",
              "    <tr>\n",
              "      <th>0</th>\n",
              "      <td>TRMMMYQ128F932D901</td>\n",
              "      <td>SOQMMHC12AB0180CB8</td>\n",
              "      <td>Faster Pussy cat</td>\n",
              "      <td>Silent Night</td>\n",
              "    </tr>\n",
              "    <tr>\n",
              "      <th>1</th>\n",
              "      <td>TRMMMKD128F425225D</td>\n",
              "      <td>SOVFVAK12A8C1350D9</td>\n",
              "      <td>Karkkiautomaatti</td>\n",
              "      <td>Tanssi vaan</td>\n",
              "    </tr>\n",
              "    <tr>\n",
              "      <th>2</th>\n",
              "      <td>TRMMMRX128F93187D9</td>\n",
              "      <td>SOGTUKN12AB017F4F1</td>\n",
              "      <td>Hudson Mohawke</td>\n",
              "      <td>No One Could Ever</td>\n",
              "    </tr>\n",
              "    <tr>\n",
              "      <th>3</th>\n",
              "      <td>TRMMMCH128F425532C</td>\n",
              "      <td>SOBNYVR12A8C13558C</td>\n",
              "      <td>Yerba Brava</td>\n",
              "      <td>Si Vos Querés</td>\n",
              "    </tr>\n",
              "    <tr>\n",
              "      <th>4</th>\n",
              "      <td>TRMMMWA128F426B589</td>\n",
              "      <td>SOHSBXH12A8C13B0DF</td>\n",
              "      <td>Der Mystic</td>\n",
              "      <td>Tangle Of Aspens</td>\n",
              "    </tr>\n",
              "  </tbody>\n",
              "</table>\n",
              "</div>"
            ],
            "text/plain": [
              "             Track ID            Songs ID          Composer          Song Name\n",
              "0  TRMMMYQ128F932D901  SOQMMHC12AB0180CB8  Faster Pussy cat       Silent Night\n",
              "1  TRMMMKD128F425225D  SOVFVAK12A8C1350D9  Karkkiautomaatti        Tanssi vaan\n",
              "2  TRMMMRX128F93187D9  SOGTUKN12AB017F4F1    Hudson Mohawke  No One Could Ever\n",
              "3  TRMMMCH128F425532C  SOBNYVR12A8C13558C       Yerba Brava      Si Vos Querés\n",
              "4  TRMMMWA128F426B589  SOHSBXH12A8C13B0DF        Der Mystic   Tangle Of Aspens"
            ]
          },
          "metadata": {
            "tags": []
          },
          "execution_count": 42
        }
      ]
    },
    {
      "cell_type": "code",
      "metadata": {
        "id": "D6zJ2J_TOaLj"
      },
      "source": [
        "unique_df.drop('Track ID',axis=1,inplace=True)"
      ],
      "execution_count": 43,
      "outputs": []
    },
    {
      "cell_type": "code",
      "metadata": {
        "colab": {
          "base_uri": "https://localhost:8080/",
          "height": 166
        },
        "id": "zQmyHyJXRSlW",
        "outputId": "8cc725a8-a9c7-4f92-9deb-12338097e553"
      },
      "source": [
        "unique_df.describe(include='all')"
      ],
      "execution_count": 44,
      "outputs": [
        {
          "output_type": "execute_result",
          "data": {
            "text/html": [
              "<div>\n",
              "<style scoped>\n",
              "    .dataframe tbody tr th:only-of-type {\n",
              "        vertical-align: middle;\n",
              "    }\n",
              "\n",
              "    .dataframe tbody tr th {\n",
              "        vertical-align: top;\n",
              "    }\n",
              "\n",
              "    .dataframe thead th {\n",
              "        text-align: right;\n",
              "    }\n",
              "</style>\n",
              "<table border=\"1\" class=\"dataframe\">\n",
              "  <thead>\n",
              "    <tr style=\"text-align: right;\">\n",
              "      <th></th>\n",
              "      <th>Songs ID</th>\n",
              "      <th>Composer</th>\n",
              "      <th>Song Name</th>\n",
              "    </tr>\n",
              "  </thead>\n",
              "  <tbody>\n",
              "    <tr>\n",
              "      <th>count</th>\n",
              "      <td>1000000</td>\n",
              "      <td>1000000</td>\n",
              "      <td>999985</td>\n",
              "    </tr>\n",
              "    <tr>\n",
              "      <th>unique</th>\n",
              "      <td>999056</td>\n",
              "      <td>72665</td>\n",
              "      <td>702000</td>\n",
              "    </tr>\n",
              "    <tr>\n",
              "      <th>top</th>\n",
              "      <td>SOIZVRY12A8151CDDE</td>\n",
              "      <td>Michael Jackson</td>\n",
              "      <td>Intro</td>\n",
              "    </tr>\n",
              "    <tr>\n",
              "      <th>freq</th>\n",
              "      <td>3</td>\n",
              "      <td>194</td>\n",
              "      <td>1511</td>\n",
              "    </tr>\n",
              "  </tbody>\n",
              "</table>\n",
              "</div>"
            ],
            "text/plain": [
              "                  Songs ID         Composer Song Name\n",
              "count              1000000          1000000    999985\n",
              "unique              999056            72665    702000\n",
              "top     SOIZVRY12A8151CDDE  Michael Jackson     Intro\n",
              "freq                     3              194      1511"
            ]
          },
          "metadata": {
            "tags": []
          },
          "execution_count": 44
        }
      ]
    },
    {
      "cell_type": "code",
      "metadata": {
        "colab": {
          "base_uri": "https://localhost:8080/"
        },
        "id": "KBUbZBQlo-mP",
        "outputId": "6d1888a4-d95a-4fb6-da3c-04396565dfc4"
      },
      "source": [
        "print(\"Shape of Visible evaluation triplets is {}\".format(vet_df.shape))"
      ],
      "execution_count": 45,
      "outputs": [
        {
          "output_type": "stream",
          "text": [
            "Shape of Visible evaluation triplets is (1450933, 3)\n"
          ],
          "name": "stdout"
        }
      ]
    },
    {
      "cell_type": "code",
      "metadata": {
        "colab": {
          "base_uri": "https://localhost:8080/"
        },
        "id": "quQAe6q-KK38",
        "outputId": "f7327616-93f1-4d9d-eb59-7c7b1790f9d8"
      },
      "source": [
        "unique_df['Songs ID'].duplicated().sum()"
      ],
      "execution_count": 46,
      "outputs": [
        {
          "output_type": "execute_result",
          "data": {
            "text/plain": [
              "944"
            ]
          },
          "metadata": {
            "tags": []
          },
          "execution_count": 46
        }
      ]
    },
    {
      "cell_type": "code",
      "metadata": {
        "colab": {
          "base_uri": "https://localhost:8080/"
        },
        "id": "PivuPrVOMZY4",
        "outputId": "df8938e7-086c-4954-ddc8-e4a8e8eb1879"
      },
      "source": [
        "unique_df.isnull().sum()"
      ],
      "execution_count": 47,
      "outputs": [
        {
          "output_type": "execute_result",
          "data": {
            "text/plain": [
              "Songs ID      0\n",
              "Composer      0\n",
              "Song Name    15\n",
              "dtype: int64"
            ]
          },
          "metadata": {
            "tags": []
          },
          "execution_count": 47
        }
      ]
    },
    {
      "cell_type": "code",
      "metadata": {
        "id": "1GWoJcMLMGpz"
      },
      "source": [
        "unique_df['Song Name'] = unique_df['Song Name'].fillna(unique_df['Song Name'].mode()[0])"
      ],
      "execution_count": 48,
      "outputs": []
    },
    {
      "cell_type": "code",
      "metadata": {
        "colab": {
          "base_uri": "https://localhost:8080/"
        },
        "id": "AhsaDFRxMzE6",
        "outputId": "bacfcfaa-6251-4ed5-bd4a-15cd27a5c940"
      },
      "source": [
        "unique_df.isnull().sum()"
      ],
      "execution_count": 49,
      "outputs": [
        {
          "output_type": "execute_result",
          "data": {
            "text/plain": [
              "Songs ID     0\n",
              "Composer     0\n",
              "Song Name    0\n",
              "dtype: int64"
            ]
          },
          "metadata": {
            "tags": []
          },
          "execution_count": 49
        }
      ]
    },
    {
      "cell_type": "markdown",
      "metadata": {
        "id": "yDToW-4JFXWA"
      },
      "source": [
        "## Merging the Datasets"
      ]
    },
    {
      "cell_type": "code",
      "metadata": {
        "id": "Jz8oW8ENDWdS"
      },
      "source": [
        "combined = pd.merge(vet_df,unique_df,on='Songs ID')"
      ],
      "execution_count": 50,
      "outputs": []
    },
    {
      "cell_type": "code",
      "metadata": {
        "colab": {
          "base_uri": "https://localhost:8080/"
        },
        "id": "rX4wFL_EzGnV",
        "outputId": "dfe3e079-2770-4cde-db4d-cccb94df3016"
      },
      "source": [
        "len(combined)"
      ],
      "execution_count": 51,
      "outputs": [
        {
          "output_type": "execute_result",
          "data": {
            "text/plain": [
              "1491952"
            ]
          },
          "metadata": {
            "tags": []
          },
          "execution_count": 51
        }
      ]
    },
    {
      "cell_type": "code",
      "metadata": {
        "colab": {
          "base_uri": "https://localhost:8080/",
          "height": 195
        },
        "id": "YYSex7GUo-pr",
        "outputId": "bc4c5c4c-38ba-46f7-cf3a-093354a851fb"
      },
      "source": [
        "combined.head(5)"
      ],
      "execution_count": 52,
      "outputs": [
        {
          "output_type": "execute_result",
          "data": {
            "text/html": [
              "<div>\n",
              "<style scoped>\n",
              "    .dataframe tbody tr th:only-of-type {\n",
              "        vertical-align: middle;\n",
              "    }\n",
              "\n",
              "    .dataframe tbody tr th {\n",
              "        vertical-align: top;\n",
              "    }\n",
              "\n",
              "    .dataframe thead th {\n",
              "        text-align: right;\n",
              "    }\n",
              "</style>\n",
              "<table border=\"1\" class=\"dataframe\">\n",
              "  <thead>\n",
              "    <tr style=\"text-align: right;\">\n",
              "      <th></th>\n",
              "      <th>user_id</th>\n",
              "      <th>Songs ID</th>\n",
              "      <th>Frequency</th>\n",
              "      <th>Composer</th>\n",
              "      <th>Song Name</th>\n",
              "    </tr>\n",
              "  </thead>\n",
              "  <tbody>\n",
              "    <tr>\n",
              "      <th>0</th>\n",
              "      <td>fd50c4007b68a3737fe052d5a4f78ce8aa117f3d</td>\n",
              "      <td>SOBONKR12A58A7A7E0</td>\n",
              "      <td>1</td>\n",
              "      <td>Dwight Yoakam</td>\n",
              "      <td>You're The One</td>\n",
              "    </tr>\n",
              "    <tr>\n",
              "      <th>1</th>\n",
              "      <td>c34670d9c1718361feb93068a853cead3c95b76a</td>\n",
              "      <td>SOBONKR12A58A7A7E0</td>\n",
              "      <td>1</td>\n",
              "      <td>Dwight Yoakam</td>\n",
              "      <td>You're The One</td>\n",
              "    </tr>\n",
              "    <tr>\n",
              "      <th>2</th>\n",
              "      <td>c5006d9f41f68ccccbf5ee29212b6af494110c5e</td>\n",
              "      <td>SOBONKR12A58A7A7E0</td>\n",
              "      <td>1</td>\n",
              "      <td>Dwight Yoakam</td>\n",
              "      <td>You're The One</td>\n",
              "    </tr>\n",
              "    <tr>\n",
              "      <th>3</th>\n",
              "      <td>e4332e11f4df6dd26673bb6b085e9a2bbdc9b8a5</td>\n",
              "      <td>SOBONKR12A58A7A7E0</td>\n",
              "      <td>2</td>\n",
              "      <td>Dwight Yoakam</td>\n",
              "      <td>You're The One</td>\n",
              "    </tr>\n",
              "    <tr>\n",
              "      <th>4</th>\n",
              "      <td>baf2fe5885ab93fbbdb7fecc6691788e70afb6c8</td>\n",
              "      <td>SOBONKR12A58A7A7E0</td>\n",
              "      <td>4</td>\n",
              "      <td>Dwight Yoakam</td>\n",
              "      <td>You're The One</td>\n",
              "    </tr>\n",
              "  </tbody>\n",
              "</table>\n",
              "</div>"
            ],
            "text/plain": [
              "                                    user_id  ...       Song Name\n",
              "0  fd50c4007b68a3737fe052d5a4f78ce8aa117f3d  ...  You're The One\n",
              "1  c34670d9c1718361feb93068a853cead3c95b76a  ...  You're The One\n",
              "2  c5006d9f41f68ccccbf5ee29212b6af494110c5e  ...  You're The One\n",
              "3  e4332e11f4df6dd26673bb6b085e9a2bbdc9b8a5  ...  You're The One\n",
              "4  baf2fe5885ab93fbbdb7fecc6691788e70afb6c8  ...  You're The One\n",
              "\n",
              "[5 rows x 5 columns]"
            ]
          },
          "metadata": {
            "tags": []
          },
          "execution_count": 52
        }
      ]
    },
    {
      "cell_type": "code",
      "metadata": {
        "colab": {
          "base_uri": "https://localhost:8080/",
          "height": 195
        },
        "id": "9nYbMvgOo-tD",
        "outputId": "e18b1beb-8252-4a99-b443-3ad66648d7d1"
      },
      "source": [
        "combined.tail()"
      ],
      "execution_count": 53,
      "outputs": [
        {
          "output_type": "execute_result",
          "data": {
            "text/html": [
              "<div>\n",
              "<style scoped>\n",
              "    .dataframe tbody tr th:only-of-type {\n",
              "        vertical-align: middle;\n",
              "    }\n",
              "\n",
              "    .dataframe tbody tr th {\n",
              "        vertical-align: top;\n",
              "    }\n",
              "\n",
              "    .dataframe thead th {\n",
              "        text-align: right;\n",
              "    }\n",
              "</style>\n",
              "<table border=\"1\" class=\"dataframe\">\n",
              "  <thead>\n",
              "    <tr style=\"text-align: right;\">\n",
              "      <th></th>\n",
              "      <th>user_id</th>\n",
              "      <th>Songs ID</th>\n",
              "      <th>Frequency</th>\n",
              "      <th>Composer</th>\n",
              "      <th>Song Name</th>\n",
              "    </tr>\n",
              "  </thead>\n",
              "  <tbody>\n",
              "    <tr>\n",
              "      <th>1491947</th>\n",
              "      <td>9d2f78e2bda5a004879d3ee53ee7de5cdf99c730</td>\n",
              "      <td>SOIDWNE12A8C13E669</td>\n",
              "      <td>1</td>\n",
              "      <td>Our Broken Garden</td>\n",
              "      <td>The Blinding</td>\n",
              "    </tr>\n",
              "    <tr>\n",
              "      <th>1491948</th>\n",
              "      <td>987b654b09b239f7c47751e0cfaa2990834cbb55</td>\n",
              "      <td>SOATNWN12A6D4F826F</td>\n",
              "      <td>1</td>\n",
              "      <td>Emilio</td>\n",
              "      <td>Como A Nadie</td>\n",
              "    </tr>\n",
              "    <tr>\n",
              "      <th>1491949</th>\n",
              "      <td>987b654b09b239f7c47751e0cfaa2990834cbb55</td>\n",
              "      <td>SOGMCFE12AB018A3A1</td>\n",
              "      <td>3</td>\n",
              "      <td>Morbid Angel</td>\n",
              "      <td>Victorious March Of Reign The Conqueror</td>\n",
              "    </tr>\n",
              "    <tr>\n",
              "      <th>1491950</th>\n",
              "      <td>fc072bde2043756ea30ff07e4a5311e34825b4df</td>\n",
              "      <td>SOBAOTU12A6D4F7A68</td>\n",
              "      <td>1</td>\n",
              "      <td>Gus Gus</td>\n",
              "      <td>Call of the Wild</td>\n",
              "    </tr>\n",
              "    <tr>\n",
              "      <th>1491951</th>\n",
              "      <td>fc072bde2043756ea30ff07e4a5311e34825b4df</td>\n",
              "      <td>SOGWSIO12A8C133A5B</td>\n",
              "      <td>1</td>\n",
              "      <td>Gus Gus</td>\n",
              "      <td>Snoozer</td>\n",
              "    </tr>\n",
              "  </tbody>\n",
              "</table>\n",
              "</div>"
            ],
            "text/plain": [
              "                                          user_id  ...                                Song Name\n",
              "1491947  9d2f78e2bda5a004879d3ee53ee7de5cdf99c730  ...                             The Blinding\n",
              "1491948  987b654b09b239f7c47751e0cfaa2990834cbb55  ...                             Como A Nadie\n",
              "1491949  987b654b09b239f7c47751e0cfaa2990834cbb55  ...  Victorious March Of Reign The Conqueror\n",
              "1491950  fc072bde2043756ea30ff07e4a5311e34825b4df  ...                         Call of the Wild\n",
              "1491951  fc072bde2043756ea30ff07e4a5311e34825b4df  ...                                  Snoozer\n",
              "\n",
              "[5 rows x 5 columns]"
            ]
          },
          "metadata": {
            "tags": []
          },
          "execution_count": 53
        }
      ]
    },
    {
      "cell_type": "markdown",
      "metadata": {
        "id": "Q_jQpw_0Q-q7"
      },
      "source": [
        "## Total no of Users, Songs and Composers\n"
      ]
    },
    {
      "cell_type": "code",
      "metadata": {
        "colab": {
          "base_uri": "https://localhost:8080/"
        },
        "id": "f1OJaVNnRGfT",
        "outputId": "8f385534-c80f-490d-8651-267e9da3578b"
      },
      "source": [
        "no_of_users = len(pd.unique(combined['user_id']))\n",
        "print('Total no of Unique Users:',no_of_users)"
      ],
      "execution_count": 54,
      "outputs": [
        {
          "output_type": "stream",
          "text": [
            "Total no of Unique Users: 110000\n"
          ],
          "name": "stdout"
        }
      ]
    },
    {
      "cell_type": "code",
      "metadata": {
        "colab": {
          "base_uri": "https://localhost:8080/"
        },
        "id": "e1SQFEBpRuDO",
        "outputId": "693f0ddd-b51b-4442-c935-233f23eb2c51"
      },
      "source": [
        "no_of_songs = len(pd.unique(combined['Songs ID']))\n",
        "print('Total no of Unique Songs:',no_of_songs)"
      ],
      "execution_count": 55,
      "outputs": [
        {
          "output_type": "stream",
          "text": [
            "Total no of Unique Songs: 163206\n"
          ],
          "name": "stdout"
        }
      ]
    },
    {
      "cell_type": "code",
      "metadata": {
        "colab": {
          "base_uri": "https://localhost:8080/"
        },
        "id": "pni5uqDGRuUE",
        "outputId": "a754758b-702c-481a-d175-3dd4316dbaed"
      },
      "source": [
        "unique_artists = len(pd.unique(combined['Composer']))\n",
        "print('Total no of Unique Artists:',unique_artists)"
      ],
      "execution_count": 56,
      "outputs": [
        {
          "output_type": "stream",
          "text": [
            "Total no of Unique Artists: 28367\n"
          ],
          "name": "stdout"
        }
      ]
    },
    {
      "cell_type": "code",
      "metadata": {
        "colab": {
          "base_uri": "https://localhost:8080/"
        },
        "id": "aO7OTwx_1zlg",
        "outputId": "f69e2ca2-ee49-4886-f879-3f628010a9b0"
      },
      "source": [
        "users = combined['user_id'].unique()\n",
        "len(users)"
      ],
      "execution_count": 73,
      "outputs": [
        {
          "output_type": "execute_result",
          "data": {
            "text/plain": [
              "110000"
            ]
          },
          "metadata": {
            "tags": []
          },
          "execution_count": 73
        }
      ]
    },
    {
      "cell_type": "markdown",
      "metadata": {
        "id": "2xy41OCT6Iiq"
      },
      "source": [
        "## Total Unique no of Songs Listened by per User"
      ]
    },
    {
      "cell_type": "code",
      "metadata": {
        "colab": {
          "base_uri": "https://localhost:8080/"
        },
        "id": "TrT_qv7a4ckk",
        "outputId": "be4dd322-1df6-4b8e-8279-ffe6210a8631"
      },
      "source": [
        "  Songs_per_user = combined.groupby('user_id')['Songs ID'].count()\n",
        "  Songs_per_user"
      ],
      "execution_count": 57,
      "outputs": [
        {
          "output_type": "execute_result",
          "data": {
            "text/plain": [
              "user_id\n",
              "00007a02388c208ea7176479f6ae06f8224355b3     9\n",
              "00014a76ed063e1a749171a253bca9d9a0ff1782    11\n",
              "00015189668691680bb1a2e58afde1541ec92ced    17\n",
              "0001ff7aa2667c8d8b945317b88adaed1c0b9dc2     9\n",
              "00020fcd8b01986a6a85b896ccde6c49f35142ad    32\n",
              "                                            ..\n",
              "fffdef71f13352e9cff769f1d96f5ccf90f8955e     7\n",
              "fffe29116f96c97b47a5dabdd406784ad0ba6f30     6\n",
              "fffe5b73c50c72ca9c54947efac1fcacf59c4a17    23\n",
              "fffed0bee753cd78494011b8b55dafd4f5c7e5ff    13\n",
              "ffff07d7d9bb187aa58c7b81b3d3f35e7cf7c0ee    13\n",
              "Name: Songs ID, Length: 110000, dtype: int64"
            ]
          },
          "metadata": {
            "tags": []
          },
          "execution_count": 57
        }
      ]
    },
    {
      "cell_type": "code",
      "metadata": {
        "colab": {
          "base_uri": "https://localhost:8080/"
        },
        "id": "XnugqDQP5jyw",
        "outputId": "2de86777-1407-45bf-ff5f-cf1a974601dd"
      },
      "source": [
        "Songs_per_user.describe()"
      ],
      "execution_count": 58,
      "outputs": [
        {
          "output_type": "execute_result",
          "data": {
            "text/plain": [
              "count    110000.000000\n",
              "mean         13.563200\n",
              "std           8.321648\n",
              "min           5.000000\n",
              "25%           7.000000\n",
              "50%          11.000000\n",
              "75%          18.000000\n",
              "max          57.000000\n",
              "Name: Songs ID, dtype: float64"
            ]
          },
          "metadata": {
            "tags": []
          },
          "execution_count": 58
        }
      ]
    },
    {
      "cell_type": "code",
      "metadata": {
        "colab": {
          "base_uri": "https://localhost:8080/"
        },
        "id": "a3TWhLpM6VEj",
        "outputId": "6a6d1290-5dba-4895-f1ef-059a476d2dff"
      },
      "source": [
        "Songs_per_user.sort_values(ascending=False).head()"
      ],
      "execution_count": 59,
      "outputs": [
        {
          "output_type": "execute_result",
          "data": {
            "text/plain": [
              "user_id\n",
              "316110734d8da7478cc33237458814f770a9eb7a    57\n",
              "ad4b2717e89766b66b96fe52a38736116e315874    57\n",
              "d30e18323f15426c3cdc8585252ed34459916f51    55\n",
              "3233c598c50f0ddbd351504e773cd51de79691db    55\n",
              "016a24e91a72c159a5048ab1b9b2ba5ce761b526    54\n",
              "Name: Songs ID, dtype: int64"
            ]
          },
          "metadata": {
            "tags": []
          },
          "execution_count": 59
        }
      ]
    },
    {
      "cell_type": "code",
      "metadata": {
        "colab": {
          "base_uri": "https://localhost:8080/"
        },
        "id": "cPqldl7n6yFO",
        "outputId": "fc495fc7-3a66-4041-f32c-689ec9de8c52"
      },
      "source": [
        "Songs_per_user.sort_values(ascending=True).head()"
      ],
      "execution_count": 60,
      "outputs": [
        {
          "output_type": "execute_result",
          "data": {
            "text/plain": [
              "user_id\n",
              "b4f681dac463c297568bffe7f4b646b74a5e6d0d    5\n",
              "1691b9058739f0b88ac2777e5bbffe0e1d400f2d    5\n",
              "d1764e1f4626164793d400b95efb4a5f80a06cf9    5\n",
              "d1776bb80cf8298288974c52f903cc3b9601761a    5\n",
              "98d00906e235bede8d2b14b9cf5b802ee2438231    5\n",
              "Name: Songs ID, dtype: int64"
            ]
          },
          "metadata": {
            "tags": []
          },
          "execution_count": 60
        }
      ]
    },
    {
      "cell_type": "markdown",
      "metadata": {
        "id": "clyBZ5ECZxXC"
      },
      "source": [
        "# Recommendation Engine"
      ]
    },
    {
      "cell_type": "markdown",
      "metadata": {
        "id": "Iar7qc-RypSp"
      },
      "source": [
        "## Popularity based Recommendation Engine"
      ]
    },
    {
      "cell_type": "code",
      "metadata": {
        "colab": {
          "base_uri": "https://localhost:8080/",
          "height": 402
        },
        "id": "3vJKhr60ywkD",
        "outputId": "72b7992b-7872-405b-c47b-d6dcdfd5dd5d"
      },
      "source": [
        "combined['Artist Name - Song Name'] = combined[\"Composer\"] + ' - ' + combined[\"Song Name\"]\n",
        "song_grouped = combined.groupby(['Artist Name - Song Name']).agg({'Frequency': 'count'}).reset_index()\n",
        "grouped_sum = song_grouped['Frequency'].sum()\n",
        "song_grouped['percentage']  = song_grouped['Frequency'].div(grouped_sum)*100\n",
        "song_grouped.sort_values(['Frequency', 'Artist Name - Song Name'], ascending = [0,1])"
      ],
      "execution_count": 74,
      "outputs": [
        {
          "output_type": "execute_result",
          "data": {
            "text/html": [
              "<div>\n",
              "<style scoped>\n",
              "    .dataframe tbody tr th:only-of-type {\n",
              "        vertical-align: middle;\n",
              "    }\n",
              "\n",
              "    .dataframe tbody tr th {\n",
              "        vertical-align: top;\n",
              "    }\n",
              "\n",
              "    .dataframe thead th {\n",
              "        text-align: right;\n",
              "    }\n",
              "</style>\n",
              "<table border=\"1\" class=\"dataframe\">\n",
              "  <thead>\n",
              "    <tr style=\"text-align: right;\">\n",
              "      <th></th>\n",
              "      <th>Artist Name - Song Name</th>\n",
              "      <th>Frequency</th>\n",
              "      <th>percentage</th>\n",
              "    </tr>\n",
              "  </thead>\n",
              "  <tbody>\n",
              "    <tr>\n",
              "      <th>59898</th>\n",
              "      <td>Harmonia - Sehr kosmisch</td>\n",
              "      <td>5043</td>\n",
              "      <td>0.338014</td>\n",
              "    </tr>\n",
              "    <tr>\n",
              "      <th>17182</th>\n",
              "      <td>Björk - Undo</td>\n",
              "      <td>4483</td>\n",
              "      <td>0.300479</td>\n",
              "    </tr>\n",
              "    <tr>\n",
              "      <th>42724</th>\n",
              "      <td>Dwight Yoakam - You're The One</td>\n",
              "      <td>4136</td>\n",
              "      <td>0.277221</td>\n",
              "    </tr>\n",
              "    <tr>\n",
              "      <th>77698</th>\n",
              "      <td>Kings Of Leon - Use Somebody</td>\n",
              "      <td>3822</td>\n",
              "      <td>0.256174</td>\n",
              "    </tr>\n",
              "    <tr>\n",
              "      <th>51343</th>\n",
              "      <td>Florence + The Machine - Dog Days Are Over (Ra...</td>\n",
              "      <td>3780</td>\n",
              "      <td>0.253359</td>\n",
              "    </tr>\n",
              "    <tr>\n",
              "      <th>...</th>\n",
              "      <td>...</td>\n",
              "      <td>...</td>\n",
              "      <td>...</td>\n",
              "    </tr>\n",
              "    <tr>\n",
              "      <th>162095</th>\n",
              "      <td>Ólafur Arnalds - Himininn er að hrynja_ en stj...</td>\n",
              "      <td>1</td>\n",
              "      <td>0.000067</td>\n",
              "    </tr>\n",
              "    <tr>\n",
              "      <th>162097</th>\n",
              "      <td>Ólafur Arnalds - Kjurrt</td>\n",
              "      <td>1</td>\n",
              "      <td>0.000067</td>\n",
              "    </tr>\n",
              "    <tr>\n",
              "      <th>162104</th>\n",
              "      <td>Ólafur Arnalds - Við vorum smá...</td>\n",
              "      <td>1</td>\n",
              "      <td>0.000067</td>\n",
              "    </tr>\n",
              "    <tr>\n",
              "      <th>162108</th>\n",
              "      <td>Órla Fallon - The Water Is Wide</td>\n",
              "      <td>1</td>\n",
              "      <td>0.000067</td>\n",
              "    </tr>\n",
              "    <tr>\n",
              "      <th>162109</th>\n",
              "      <td>Özlem Tekin - A)sik</td>\n",
              "      <td>1</td>\n",
              "      <td>0.000067</td>\n",
              "    </tr>\n",
              "  </tbody>\n",
              "</table>\n",
              "<p>162110 rows × 3 columns</p>\n",
              "</div>"
            ],
            "text/plain": [
              "                                  Artist Name - Song Name  ...  percentage\n",
              "59898                            Harmonia - Sehr kosmisch  ...    0.338014\n",
              "17182                                        Björk - Undo  ...    0.300479\n",
              "42724                      Dwight Yoakam - You're The One  ...    0.277221\n",
              "77698                        Kings Of Leon - Use Somebody  ...    0.256174\n",
              "51343   Florence + The Machine - Dog Days Are Over (Ra...  ...    0.253359\n",
              "...                                                   ...  ...         ...\n",
              "162095  Ólafur Arnalds - Himininn er að hrynja_ en stj...  ...    0.000067\n",
              "162097                            Ólafur Arnalds - Kjurrt  ...    0.000067\n",
              "162104                  Ólafur Arnalds - Við vorum smá...  ...    0.000067\n",
              "162108                    Órla Fallon - The Water Is Wide  ...    0.000067\n",
              "162109                                Özlem Tekin - A)sik  ...    0.000067\n",
              "\n",
              "[162110 rows x 3 columns]"
            ]
          },
          "metadata": {
            "tags": []
          },
          "execution_count": 74
        }
      ]
    },
    {
      "cell_type": "code",
      "metadata": {
        "id": "yEVPtWOJ0P0x"
      },
      "source": [
        "import sklearn\n",
        "from sklearn.model_selection import train_test_split \n",
        "train_data, test_data = train_test_split(combined, test_size = 0.20, random_state=0)"
      ],
      "execution_count": 75,
      "outputs": []
    },
    {
      "cell_type": "code",
      "metadata": {
        "id": "focvZMgW0P-S"
      },
      "source": [
        "#Class for Popularity based Recommender System model\n",
        "class Popularity_Recommendation_engine():\n",
        "    def __init__(self):\n",
        "        self.train_data = None\n",
        "        self.user_id = None\n",
        "        self.item_id = None\n",
        "        self.popularity_recommendations = None\n",
        "        \n",
        "    #Create the popularity based recommender system model\n",
        "    def create(self, train_data, user_id, item_id):\n",
        "        self.train_data = train_data\n",
        "        self.user_id = user_id\n",
        "        self.item_id = item_id\n",
        "\n",
        "        #Get a count of user_ids for each unique song as recommendation score\n",
        "        train_data_grouped = train_data.groupby([self.item_id]).agg({self.user_id: 'count'}).reset_index()\n",
        "        train_data_grouped.rename(columns = {'user_id': 'score'},inplace=True)\n",
        "    \n",
        "        #Sort the songs based upon recommendation score\n",
        "        train_data_sort = train_data_grouped.sort_values(['score', self.item_id], ascending = [0,1])\n",
        "    \n",
        "        #Generate a recommendation rank based upon score\n",
        "        train_data_sort['Rank'] = train_data_sort['score'].rank(ascending=0, method='first')\n",
        "        \n",
        "        #Get the top 10 recommendations\n",
        "        self.popularity_recommendations = train_data_sort.head(10)\n",
        "\n",
        "    #Use the popularity based recommender system model to make recommendations\n",
        "    def recommend(self, user_id):    \n",
        "        user_recommendations = self.popularity_recommendations\n",
        "        \n",
        "        #Add user_id column for which the recommendations are being generated\n",
        "        user_recommendations['user_id'] = user_id\n",
        "    \n",
        "        #Bring user_id column to the front\n",
        "        cols = user_recommendations.columns.tolist()\n",
        "        cols = cols[-1:] + cols[:-1]\n",
        "        user_recommendations = user_recommendations[cols]\n",
        "        \n",
        "        return user_recommendations"
      ],
      "execution_count": 76,
      "outputs": []
    },
    {
      "cell_type": "code",
      "metadata": {
        "colab": {
          "base_uri": "https://localhost:8080/",
          "height": 343
        },
        "id": "CYgvIYOC0QGx",
        "outputId": "ddf3f52e-43d6-4a37-a08b-254e5a0f0010"
      },
      "source": [
        "pm = Popularity_Recommendation_engine()\n",
        "pm.create(train_data, 'user_id', 'Artist Name - Song Name')\n",
        "user_id = users[8]\n",
        "pm.recommend(user_id)"
      ],
      "execution_count": 77,
      "outputs": [
        {
          "output_type": "execute_result",
          "data": {
            "text/html": [
              "<div>\n",
              "<style scoped>\n",
              "    .dataframe tbody tr th:only-of-type {\n",
              "        vertical-align: middle;\n",
              "    }\n",
              "\n",
              "    .dataframe tbody tr th {\n",
              "        vertical-align: top;\n",
              "    }\n",
              "\n",
              "    .dataframe thead th {\n",
              "        text-align: right;\n",
              "    }\n",
              "</style>\n",
              "<table border=\"1\" class=\"dataframe\">\n",
              "  <thead>\n",
              "    <tr style=\"text-align: right;\">\n",
              "      <th></th>\n",
              "      <th>user_id</th>\n",
              "      <th>Artist Name - Song Name</th>\n",
              "      <th>score</th>\n",
              "      <th>Rank</th>\n",
              "    </tr>\n",
              "  </thead>\n",
              "  <tbody>\n",
              "    <tr>\n",
              "      <th>54790</th>\n",
              "      <td>daa9e7e53ae787ab4f1b5518b695198947d821a2</td>\n",
              "      <td>Harmonia - Sehr kosmisch</td>\n",
              "      <td>4072</td>\n",
              "      <td>1.0</td>\n",
              "    </tr>\n",
              "    <tr>\n",
              "      <th>15799</th>\n",
              "      <td>daa9e7e53ae787ab4f1b5518b695198947d821a2</td>\n",
              "      <td>Björk - Undo</td>\n",
              "      <td>3546</td>\n",
              "      <td>2.0</td>\n",
              "    </tr>\n",
              "    <tr>\n",
              "      <th>39135</th>\n",
              "      <td>daa9e7e53ae787ab4f1b5518b695198947d821a2</td>\n",
              "      <td>Dwight Yoakam - You're The One</td>\n",
              "      <td>3346</td>\n",
              "      <td>3.0</td>\n",
              "    </tr>\n",
              "    <tr>\n",
              "      <th>47004</th>\n",
              "      <td>daa9e7e53ae787ab4f1b5518b695198947d821a2</td>\n",
              "      <td>Florence + The Machine - Dog Days Are Over (Ra...</td>\n",
              "      <td>3057</td>\n",
              "      <td>4.0</td>\n",
              "    </tr>\n",
              "    <tr>\n",
              "      <th>71079</th>\n",
              "      <td>daa9e7e53ae787ab4f1b5518b695198947d821a2</td>\n",
              "      <td>Kings Of Leon - Use Somebody</td>\n",
              "      <td>3041</td>\n",
              "      <td>5.0</td>\n",
              "    </tr>\n",
              "    <tr>\n",
              "      <th>71072</th>\n",
              "      <td>daa9e7e53ae787ab4f1b5518b695198947d821a2</td>\n",
              "      <td>Kings Of Leon - Revelry</td>\n",
              "      <td>2986</td>\n",
              "      <td>6.0</td>\n",
              "    </tr>\n",
              "    <tr>\n",
              "      <th>95430</th>\n",
              "      <td>daa9e7e53ae787ab4f1b5518b695198947d821a2</td>\n",
              "      <td>OneRepublic - Secrets</td>\n",
              "      <td>2742</td>\n",
              "      <td>7.0</td>\n",
              "    </tr>\n",
              "    <tr>\n",
              "      <th>12282</th>\n",
              "      <td>daa9e7e53ae787ab4f1b5518b695198947d821a2</td>\n",
              "      <td>Barry Tuckwell/Academy of St Martin-in-the-Fie...</td>\n",
              "      <td>2615</td>\n",
              "      <td>8.0</td>\n",
              "    </tr>\n",
              "    <tr>\n",
              "      <th>68074</th>\n",
              "      <td>daa9e7e53ae787ab4f1b5518b695198947d821a2</td>\n",
              "      <td>Justin Bieber - Somebody To Love</td>\n",
              "      <td>2596</td>\n",
              "      <td>9.0</td>\n",
              "    </tr>\n",
              "    <tr>\n",
              "      <th>138870</th>\n",
              "      <td>daa9e7e53ae787ab4f1b5518b695198947d821a2</td>\n",
              "      <td>Train - Hey_ Soul Sister</td>\n",
              "      <td>2233</td>\n",
              "      <td>10.0</td>\n",
              "    </tr>\n",
              "  </tbody>\n",
              "</table>\n",
              "</div>"
            ],
            "text/plain": [
              "                                         user_id  ...  Rank\n",
              "54790   daa9e7e53ae787ab4f1b5518b695198947d821a2  ...   1.0\n",
              "15799   daa9e7e53ae787ab4f1b5518b695198947d821a2  ...   2.0\n",
              "39135   daa9e7e53ae787ab4f1b5518b695198947d821a2  ...   3.0\n",
              "47004   daa9e7e53ae787ab4f1b5518b695198947d821a2  ...   4.0\n",
              "71079   daa9e7e53ae787ab4f1b5518b695198947d821a2  ...   5.0\n",
              "71072   daa9e7e53ae787ab4f1b5518b695198947d821a2  ...   6.0\n",
              "95430   daa9e7e53ae787ab4f1b5518b695198947d821a2  ...   7.0\n",
              "12282   daa9e7e53ae787ab4f1b5518b695198947d821a2  ...   8.0\n",
              "68074   daa9e7e53ae787ab4f1b5518b695198947d821a2  ...   9.0\n",
              "138870  daa9e7e53ae787ab4f1b5518b695198947d821a2  ...  10.0\n",
              "\n",
              "[10 rows x 4 columns]"
            ]
          },
          "metadata": {
            "tags": []
          },
          "execution_count": 77
        }
      ]
    }
  ]
}